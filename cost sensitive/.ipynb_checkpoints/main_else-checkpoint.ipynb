{
 "cells": [
  {
   "cell_type": "code",
   "execution_count": 1,
   "id": "73bda80b-002e-4c63-bb57-21c9490893da",
   "metadata": {},
   "outputs": [],
   "source": [
    "import numpy as np\n",
    "import pandas as pd\n",
    "from sklearn.tree import DecisionTreeClassifier\n",
    "from sklearn.datasets import load_iris,load_wine\n",
    "from DecisionTree import D_Tree \n",
    "from sklearn.metrics import accuracy_score\n",
    "from sklearn.model_selection import train_test_split\n",
    "from sklearn.metrics import f1_score\n",
    "from sklearn.metrics import roc_auc_score\n",
    "from stratifion import stratified_sampling\n",
    "from MetaCost import Metacost\n",
    "from ucimlrepo import fetch_ucirepo\n",
    "from KNN_plus import KNN"
   ]
  },
  {
   "cell_type": "code",
   "execution_count": 2,
   "id": "4d342436-6e30-406c-83df-8b98049602e6",
   "metadata": {},
   "outputs": [],
   "source": [
    "def make_cost_matrix(label):\n",
    "    # np.random.seed(0)\n",
    "    label_list,counts = np.unique(label,return_counts=True)\n",
    "    class_number = len(label_list)\n",
    "    data = np.zeros((class_number,class_number))\n",
    "    Data = pd.DataFrame(data,columns=label_list,index=label_list)\n",
    "    for name1 in label_list:\n",
    "        for name2 in label_list:\n",
    "            if name1 == name2:\n",
    "                Data[name1][name2] = np.random.randint(0,1000)\n",
    "            else:\n",
    "                Data[name1][name2] = np.random.randint(0,2000*counts[np.where(label_list==name1)] / counts[np.where(label_list==name2)])\n",
    "                # Data[name1][name2] = np.random.uniform(0,10000)\n",
    "    return Data"
   ]
  },
  {
   "cell_type": "code",
   "execution_count": 3,
   "id": "3264791a-3aaf-4914-82cd-15e67b0b1555",
   "metadata": {},
   "outputs": [],
   "source": [
    "def compute_cs(cost_matrix,true_label,predict_label):\n",
    "    cs = 0\n",
    "\n",
    "    for i in range(len(true_label)):\n",
    "        \n",
    "        # if true_label[i]!=predict_label[i]:\n",
    "        cs += cost_matrix.iloc[predict_label[i]][true_label[i]]\n",
    "\n",
    "    # conf_matrix = confusion_matrix(true_label, predict_label)\n",
    "    # total_cost = np.sum(conf_matrix * cost_matrix.values)\n",
    "\n",
    "    # return total_cost/len(true_label)\n",
    "    return cs/len(true_label)\n",
    "    "
   ]
  },
  {
   "cell_type": "code",
   "execution_count": 6,
   "id": "bd4bce06-52d4-4f47-9302-19721152c5c1",
   "metadata": {},
   "outputs": [
    {
     "name": "stdout",
     "output_type": "stream",
     "text": [
      "[[1.000e+00 2.208e+01 1.146e+01 ... 2.000e+00 1.000e+02 1.213e+03]\n",
      " [0.000e+00 2.267e+01 7.000e+00 ... 2.000e+00 1.600e+02 1.000e+00]\n",
      " [0.000e+00 2.958e+01 1.750e+00 ... 2.000e+00 2.800e+02 1.000e+00]\n",
      " ...\n",
      " [0.000e+00 1.883e+01 9.540e+00 ... 2.000e+00 1.000e+02 1.000e+00]\n",
      " [0.000e+00 2.742e+01 1.450e+01 ... 2.000e+00 1.200e+02 1.200e+01]\n",
      " [1.000e+00 4.100e+01 4.000e-02 ... 1.000e+00 5.600e+02 1.000e+00]]\n"
     ]
    }
   ],
   "source": [
    "  \n",
    "# fetch dataset \n",
    "statlog_australian_credit_approval = fetch_ucirepo(id=143) \n",
    "  \n",
    "# data (as pandas dataframes) \n",
    "X = statlog_australian_credit_approval.data.features.values\n",
    "y = statlog_australian_credit_approval.data.targets.values \n",
    "\n",
    "credit_ = pd.DataFrame(X)\n",
    "credit_['Y'] = y"
   ]
  },
  {
   "cell_type": "code",
   "execution_count": null,
   "id": "d1b06a90-b653-4277-81d4-7bb78692fdaa",
   "metadata": {},
   "outputs": [],
   "source": []
  }
 ],
 "metadata": {
  "kernelspec": {
   "display_name": "Python 3 (ipykernel)",
   "language": "python",
   "name": "python3"
  },
  "language_info": {
   "codemirror_mode": {
    "name": "ipython",
    "version": 3
   },
   "file_extension": ".py",
   "mimetype": "text/x-python",
   "name": "python",
   "nbconvert_exporter": "python",
   "pygments_lexer": "ipython3",
   "version": "3.10.7"
  }
 },
 "nbformat": 4,
 "nbformat_minor": 5
}
