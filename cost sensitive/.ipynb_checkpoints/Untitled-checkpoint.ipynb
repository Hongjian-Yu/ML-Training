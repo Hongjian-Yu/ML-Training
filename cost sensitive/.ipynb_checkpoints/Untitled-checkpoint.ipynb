{
 "cells": [
  {
   "cell_type": "code",
   "execution_count": 1,
   "id": "7db4d1d9-3ca7-4071-b25b-9ef7e97f5c6e",
   "metadata": {},
   "outputs": [
    {
     "name": "stdout",
     "output_type": "stream",
     "text": [
      "Total Cost: 587.6\n",
      "Total Cost: 607.1777777777778\n",
      "Total Cost: 302.6666666666667\n",
      "Total Cost: 402.2\n",
      "Total Cost: 628.5111111111111\n",
      "Total Cost: 329.8\n",
      "Total Cost: 308.4888888888889\n",
      "Total Cost: 668.2222222222222\n",
      "Total Cost: 690.0666666666667\n",
      "Total Cost: 510.8\n",
      "Total Cost: 129.88888888888889\n",
      "Total Cost: 265.06666666666666\n",
      "Total Cost: 359.4\n",
      "Total Cost: 252.13333333333333\n",
      "Total Cost: 360.06666666666666\n",
      "Total Cost: 385.53333333333336\n",
      "Total Cost: 727.6666666666666\n",
      "Total Cost: 637.5555555555555\n",
      "Total Cost: 474.0888888888889\n",
      "Total Cost: 454.53333333333336\n",
      "454.0733333333334\n",
      "166.09329344797476\n"
     ]
    }
   ],
   "source": [
    "from sklearn.tree import DecisionTreeClassifier\n",
    "from sklearn.model_selection import train_test_split\n",
    "from sklearn.metrics import confusion_matrix\n",
    "from sklearn.datasets import load_iris\n",
    "import numpy as np\n",
    "\n",
    "def make_cost(y):\n",
    "    unique, counts = np.unique(y,return_counts=True)\n",
    "    class_number = len(unique)\n",
    "    data = np.zeros((class_number,class_number))\n",
    "    for i in range(class_number):\n",
    "        for j in range(class_number):\n",
    "            if i==j:\n",
    "                data[i][j] = np.random.randint(0,1000)\n",
    "            else:\n",
    "                data[i][j] = np.random.randint(0,10000)\n",
    "    return data\n",
    "# 加载 iris 数据集\n",
    "iris = load_iris()\n",
    "X, y = iris.data, iris.target\n",
    "cs = []\n",
    "for i in range(20):\n",
    "# 划分训练集和测试集\n",
    "    X_train, X_test, y_train, y_test = train_test_split(X, y, test_size=0.3, random_state=42)\n",
    "    \n",
    "    # 定义成本矩阵 (示例)\n",
    "    cost_matrix = make_cost(y_train)\n",
    "    \n",
    "    # 创建决策树分类器 (C4.5 的近似实现)\n",
    "    clf = DecisionTreeClassifier(criterion=\"entropy\")  # 使用信息增益作为分裂标准\n",
    "    \n",
    "    # 训练模型\n",
    "    clf.fit(X_train, y_train)\n",
    "    \n",
    "    # 预测\n",
    "    y_pred = clf.predict(X_test)\n",
    "    \n",
    "    # 评估模型\n",
    "    conf_matrix = confusion_matrix(y_test, y_pred)\n",
    "    \n",
    "    # 计算总成本\n",
    "    total_cost = np.sum(conf_matrix * cost_matrix)\n",
    "    cs.append(total_cost/len(y_test))\n",
    "    print(\"Total Cost:\", total_cost/len(y_test))\n",
    "print(np.mean(cs))\n",
    "print(np.std(cs))"
   ]
  },
  {
   "cell_type": "code",
   "execution_count": 4,
   "id": "74c5f97f-2b68-41f9-92a0-aa1fea6286a4",
   "metadata": {},
   "outputs": [],
   "source": [
    "from ucimlrepo import fetch_ucirepo \n",
    "import pandas as pd\n",
    "annealing = fetch_ucirepo(id=3) \n",
    "# fetch dataset \n",
    "\n",
    "X = annealing.data.features \n",
    "y = annealing.data.targets \n",
    "# print(X)\n",
    "# print(y)\n",
    "data = pd.DataFrame(X)\n",
    "data['Y'] = y\n"
   ]
  },
  {
   "cell_type": "code",
   "execution_count": 6,
   "id": "b3895a77-8cf5-4e21-8d02-f1d79a47d00f",
   "metadata": {},
   "outputs": [
    {
     "name": "stdout",
     "output_type": "stream",
     "text": [
      "Accuracy: 1.0\n"
     ]
    }
   ],
   "source": [
    "import pandas as pd\n",
    "from sklearn.model_selection import train_test_split\n",
    "from sklearn.tree import DecisionTreeClassifier\n",
    "from sklearn.metrics import accuracy_score\n",
    "\n",
    "# 加载数据集\n",
    "\n",
    "\n",
    "# 将所有列转换为字符串类型，以便进行独热编码\n",
    "data = data.astype(str)\n",
    "colum =  data.columns\n",
    "fea = [3,4,8,32,33,34]\n",
    "# 对所有类别型特征进行独热编码\n",
    "data = pd.get_dummies(data)\n",
    "# print(data.columns)\n",
    "# 划分特征和标签\n",
    "X = data.iloc[:, :-1] # 假设最后一列是标签\n",
    "y = data.iloc[:, -1]\n",
    "\n",
    "# 划分训练集和测试集\n",
    "X_train, X_test, y_train, y_test = train_test_split(X, y, test_size=0.3, random_state=42)\n",
    "\n",
    "# 创建决策树分类器\n",
    "clf = DecisionTreeClassifier(criterion='entropy', random_state=42)\n",
    "\n",
    "# 训练模型\n",
    "clf.fit(X_train, y_train)\n",
    "\n",
    "# 预测\n",
    "y_pred = clf.predict(X_test)\n",
    "\n",
    "# 评估模型\n",
    "accuracy = accuracy_score(y_test, y_pred)\n",
    "print(f\"Accuracy: {accuracy}\")"
   ]
  },
  {
   "cell_type": "code",
   "execution_count": null,
   "id": "b1f850fb-68a6-4c5d-b001-37da36cfbd46",
   "metadata": {},
   "outputs": [],
   "source": [
    "data = pd.DataFrame({'A':[1,2,3,4,5],'B':[2,3,4,'Nan','Nan'],'C':[4,5,6,7,8],'Y':[0,0,1,1,1]})\n",
    "# print(data)\n",
    "data = data.astype(str)\n",
    "data = pd.get_dummies(data)\n",
    "data"
   ]
  },
  {
   "cell_type": "code",
   "execution_count": null,
   "id": "0d7f4625-239e-44b9-8d12-691804adf98e",
   "metadata": {},
   "outputs": [],
   "source": []
  }
 ],
 "metadata": {
  "kernelspec": {
   "display_name": "Python 3 (ipykernel)",
   "language": "python",
   "name": "python3"
  },
  "language_info": {
   "codemirror_mode": {
    "name": "ipython",
    "version": 3
   },
   "file_extension": ".py",
   "mimetype": "text/x-python",
   "name": "python",
   "nbconvert_exporter": "python",
   "pygments_lexer": "ipython3",
   "version": "3.10.7"
  }
 },
 "nbformat": 4,
 "nbformat_minor": 5
}
