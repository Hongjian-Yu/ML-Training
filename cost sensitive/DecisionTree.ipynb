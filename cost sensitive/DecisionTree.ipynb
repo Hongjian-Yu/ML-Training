{
 "cells": [
  {
   "cell_type": "code",
   "execution_count": 6,
   "id": "89724803-8a82-4abc-a8a5-1b1a7a456e0b",
   "metadata": {},
   "outputs": [],
   "source": [
    "import numpy as np\n",
    "import pandas as pd\n",
    "from sklearn.tree import DecisionTreeClassifier"
   ]
  },
  {
   "cell_type": "code",
   "execution_count": 7,
   "id": "3314a942-1429-41f9-ba5f-8d604180845d",
   "metadata": {},
   "outputs": [],
   "source": [
    "class D_Tree():\n",
    "    def __init__(self,train_set):\n",
    "        if not isinstance(train_set,pd.DataFrame):\n",
    "            raise ValueError('train_set must be a DataFrame object')\n",
    "        self.train_set = train_set\n",
    "        self.train_x = train_set.iloc[:,:-1].values\n",
    "        self.train_y = train_set.iloc[:,-1].values\n",
    "    def fit(self):\n",
    "        clf = DecisionTreeClassifier(criterion='entropy')\n",
    "        clf.fit(self.train_x,self.train_y)\n",
    "        self.Tree = clf\n",
    "    def predict(self,test_x):\n",
    "        return self.Tree.predict(test_x)"
   ]
  },
  {
   "cell_type": "code",
   "execution_count": 8,
   "id": "5c91a9f0-8ce8-4ec1-bcf4-99835ac6bf15",
   "metadata": {},
   "outputs": [
    {
     "name": "stdout",
     "output_type": "stream",
     "text": [
      "[[1 2]\n",
      " [2 3]\n",
      " [3 4]\n",
      " [4 5]]\n",
      "[0 0 1 1]\n",
      "[1]\n"
     ]
    }
   ],
   "source": [
    "# tree = D_Tree(pd.DataFrame({'A':[1,2,3,4],'B':[2,3,4,5],'Y':[0,0,1,1]}))\n",
    "# print(tree.train_x)\n",
    "# print(tree.train_y)\n",
    "# tree.fit()\n",
    "# print(tree.predict([[3,5]]))"
   ]
  },
  {
   "cell_type": "code",
   "execution_count": null,
   "id": "3de0d197-1caa-49ee-aa86-684cbd6528cc",
   "metadata": {},
   "outputs": [],
   "source": []
  }
 ],
 "metadata": {
  "kernelspec": {
   "display_name": "Python 3 (ipykernel)",
   "language": "python",
   "name": "python3"
  },
  "language_info": {
   "codemirror_mode": {
    "name": "ipython",
    "version": 3
   },
   "file_extension": ".py",
   "mimetype": "text/x-python",
   "name": "python",
   "nbconvert_exporter": "python",
   "pygments_lexer": "ipython3",
   "version": "3.10.7"
  }
 },
 "nbformat": 4,
 "nbformat_minor": 5
}
