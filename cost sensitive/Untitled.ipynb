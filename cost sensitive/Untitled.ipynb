{
 "cells": [
  {
   "cell_type": "code",
   "execution_count": 12,
   "id": "b3895a77-8cf5-4e21-8d02-f1d79a47d00f",
   "metadata": {},
   "outputs": [
    {
     "name": "stdout",
     "output_type": "stream",
     "text": [
      "Accuracy: 1.0\n"
     ]
    }
   ],
   "source": [
    "import pandas as pd\n",
    "from sklearn.model_selection import train_test_split\n",
    "from sklearn.tree import DecisionTreeClassifier\n",
    "from sklearn.metrics import accuracy_score\n",
    "\n",
    "# 加载数据集\n",
    "\n",
    "from ucimlrepo import fetch_ucirepo \n",
    "import pandas as pd\n",
    "annealing = fetch_ucirepo(id=3) \n",
    "# fetch dataset \n",
    "\n",
    "X = annealing.data.features \n",
    "y = annealing.data.targets \n",
    "# print(X)\n",
    "# print(y)\n",
    "data = pd.DataFrame(X)\n",
    "data['Y'] = y\n",
    "# 将所有列转换为字符串类型，以便进行独热编码\n",
    "\n",
    "colum =  data.columns\n",
    "fea_con = [3,4,8,32,33,34]\n",
    "fea_els = [i for i in range(len(colum)) if i not in fea_con]\n",
    "# print(colum[fea_els])\n",
    "data = data[colum[fea_els]].astype(str)\n",
    "# 对所有类别型特征进行独热编码\n",
    "data = pd.get_dummies(data)\n",
    "# print(data.columns)\n",
    "# 划分特征和标签\n",
    "X = data.iloc[:, :-1] # 假设最后一列是标签\n",
    "y = data.iloc[:, -1]\n",
    "\n",
    "# 划分训练集和测试集\n",
    "X_train, X_test, y_train, y_test = train_test_split(X, y, test_size=0.1, random_state=42)\n",
    "\n",
    "# 创建决策树分类器\n",
    "clf = DecisionTreeClassifier(criterion='entropy', random_state=42)\n",
    "\n",
    "# 训练模型\n",
    "clf.fit(X_train, y_train)\n",
    "\n",
    "# 预测\n",
    "y_pred = clf.predict(X_test)\n",
    "\n",
    "# 评估模型\n",
    "accuracy = accuracy_score(y_test, y_pred)\n",
    "print(f\"Accuracy: {accuracy}\")"
   ]
  },
  {
   "cell_type": "code",
   "execution_count": 14,
   "id": "b1f850fb-68a6-4c5d-b001-37da36cfbd46",
   "metadata": {},
   "outputs": [
    {
     "data": {
      "text/html": [
       "<div>\n",
       "<style scoped>\n",
       "    .dataframe tbody tr th:only-of-type {\n",
       "        vertical-align: middle;\n",
       "    }\n",
       "\n",
       "    .dataframe tbody tr th {\n",
       "        vertical-align: top;\n",
       "    }\n",
       "\n",
       "    .dataframe thead th {\n",
       "        text-align: right;\n",
       "    }\n",
       "</style>\n",
       "<table border=\"1\" class=\"dataframe\">\n",
       "  <thead>\n",
       "    <tr style=\"text-align: right;\">\n",
       "      <th></th>\n",
       "      <th>1</th>\n",
       "      <th>2</th>\n",
       "      <th>3</th>\n",
       "      <th>4</th>\n",
       "      <th>5</th>\n",
       "    </tr>\n",
       "  </thead>\n",
       "  <tbody>\n",
       "    <tr>\n",
       "      <th>0</th>\n",
       "      <td>True</td>\n",
       "      <td>False</td>\n",
       "      <td>False</td>\n",
       "      <td>False</td>\n",
       "      <td>False</td>\n",
       "    </tr>\n",
       "    <tr>\n",
       "      <th>1</th>\n",
       "      <td>False</td>\n",
       "      <td>True</td>\n",
       "      <td>False</td>\n",
       "      <td>False</td>\n",
       "      <td>False</td>\n",
       "    </tr>\n",
       "    <tr>\n",
       "      <th>2</th>\n",
       "      <td>False</td>\n",
       "      <td>False</td>\n",
       "      <td>True</td>\n",
       "      <td>False</td>\n",
       "      <td>False</td>\n",
       "    </tr>\n",
       "    <tr>\n",
       "      <th>3</th>\n",
       "      <td>False</td>\n",
       "      <td>False</td>\n",
       "      <td>False</td>\n",
       "      <td>True</td>\n",
       "      <td>False</td>\n",
       "    </tr>\n",
       "    <tr>\n",
       "      <th>4</th>\n",
       "      <td>False</td>\n",
       "      <td>False</td>\n",
       "      <td>False</td>\n",
       "      <td>False</td>\n",
       "      <td>True</td>\n",
       "    </tr>\n",
       "  </tbody>\n",
       "</table>\n",
       "</div>"
      ],
      "text/plain": [
       "       1      2      3      4      5\n",
       "0   True  False  False  False  False\n",
       "1  False   True  False  False  False\n",
       "2  False  False   True  False  False\n",
       "3  False  False  False   True  False\n",
       "4  False  False  False  False   True"
      ]
     },
     "execution_count": 14,
     "metadata": {},
     "output_type": "execute_result"
    }
   ],
   "source": [
    "data = pd.DataFrame({'A':[1,2,3,4,5],'B':[2,3,4,'Nan','Nan'],'C':[4,5,6,7,8],'Y':[0,0,1,1,1]})\n",
    "# print(data)\n",
    "data = data['A'].astype(str)\n",
    "data = pd.get_dummies(data)\n",
    "data"
   ]
  },
  {
   "cell_type": "code",
   "execution_count": null,
   "id": "0d7f4625-239e-44b9-8d12-691804adf98e",
   "metadata": {},
   "outputs": [],
   "source": [
    "data = pd.DataFrame({'A':[1,2,3,4]})"
   ]
  },
  {
   "cell_type": "code",
   "execution_count": 23,
   "id": "8e7e39ca-291b-4967-9d87-f7b9e78181c4",
   "metadata": {},
   "outputs": [
    {
     "name": "stdout",
     "output_type": "stream",
     "text": [
      "     class\n",
      "0        3\n",
      "1        2\n",
      "2        3\n",
      "3        3\n",
      "4        2\n",
      "..     ...\n",
      "143      3\n",
      "144      2\n",
      "145      3\n",
      "146      2\n",
      "147      2\n",
      "\n",
      "[148 rows x 1 columns]\n"
     ]
    }
   ],
   "source": [
    "# fetch dataset \n",
    "lymphography = fetch_ucirepo(id=63) \n",
    "  \n",
    "# data (as pandas dataframes) \n",
    "X = lymphography.data.features\n",
    "y = lymphography.data.targets \n",
    "print(y)"
   ]
  },
  {
   "cell_type": "code",
   "execution_count": 35,
   "id": "5b7db2ea-00e1-4386-ba74-ffe8e12e6a93",
   "metadata": {},
   "outputs": [
    {
     "name": "stdout",
     "output_type": "stream",
     "text": [
      "60\n",
      "['M' 'R']\n",
      "[111  97]\n"
     ]
    }
   ],
   "source": [
    "# fetch dataset \n",
    "import numpy\n",
    "\n",
    "# fetch dataset \n",
    "connectionist_bench_sonar_mines_vs_rocks = fetch_ucirepo(id=151) \n",
    "  \n",
    "# data (as pandas dataframes) \n",
    "X = connectionist_bench_sonar_mines_vs_rocks.data.features.values \n",
    "y = connectionist_bench_sonar_mines_vs_rocks.data.targets.values\n",
    "print(X.shape[1])\n",
    "unique ,counts = numpy.unique(y,return_counts=True)\n",
    "print(unique)\n",
    "print(counts)"
   ]
  },
  {
   "cell_type": "code",
   "execution_count": null,
   "id": "ed7eb03e-e2a2-46a7-ac20-60af48756389",
   "metadata": {},
   "outputs": [],
   "source": [
    "connectionist_bench_sonar_mines_vs_rocks = fetch_ucirepo(id=151) \n",
    "  \n",
    "# data (as pandas dataframes) \n",
    "X = connectionist_bench_sonar_mines_vs_rocks.data.features \n",
    "y = connectionist_bench_sonar_mines_vs_rocks.data.targets"
   ]
  }
 ],
 "metadata": {
  "kernelspec": {
   "display_name": "Python 3 (ipykernel)",
   "language": "python",
   "name": "python3"
  },
  "language_info": {
   "codemirror_mode": {
    "name": "ipython",
    "version": 3
   },
   "file_extension": ".py",
   "mimetype": "text/x-python",
   "name": "python",
   "nbconvert_exporter": "python",
   "pygments_lexer": "ipython3",
   "version": "3.10.7"
  }
 },
 "nbformat": 4,
 "nbformat_minor": 5
}
