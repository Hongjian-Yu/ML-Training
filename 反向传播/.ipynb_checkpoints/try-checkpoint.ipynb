{
 "cells": [
  {
   "cell_type": "code",
   "execution_count": 1,
   "id": "097f0329-bc30-45ec-b1d5-4e8ed2cedea6",
   "metadata": {},
   "outputs": [],
   "source": [
    "import numpy as np\n",
    "import matplotlib\n",
    "import matplotlib.pyplot as plt\n",
    "from sklearn.metrics import classification_report\n",
    "from scipy.io import loadmat\n",
    "from scipy.optimize import minimize"
   ]
  },
  {
   "cell_type": "code",
   "execution_count": 2,
   "id": "f12b5b46-76f7-464d-8a48-ede56b0cc78b",
   "metadata": {},
   "outputs": [],
   "source": [
    "def one_hot(Y):\n",
    "    y = Y.reshape(-1)\n",
    "    res = []\n",
    "    for i in y:\n",
    "        temp = np.zeros(10)\n",
    "        temp[i-1] = 1\n",
    "        res.append(temp)\n",
    "    return res"
   ]
  },
  {
   "cell_type": "code",
   "execution_count": 3,
   "id": "5ee8c717-5ffe-40c9-b5d5-47de2b2fb9bd",
   "metadata": {},
   "outputs": [
    {
     "name": "stdout",
     "output_type": "stream",
     "text": [
      "dict_keys(['__header__', '__version__', '__globals__', 'X', 'y'])\n",
      "dict_keys(['__header__', '__version__', '__globals__', 'Theta1', 'Theta2'])\n"
     ]
    }
   ],
   "source": [
    "path_1 = 'ex4data1.mat'\n",
    "path_2 = 'ex4weights.mat'\n",
    "data = loadmat(path_1)\n",
    "theta = loadmat(path_2)\n",
    "X = data['X']\n",
    "Y = data['y']\n",
    "theta_1 = theta['Theta1']\n",
    "theta_2 = theta['Theta2']\n",
    "print(data.keys())\n",
    "print(theta.keys())\n",
    "y_one_hot = one_hot(Y)\n",
    "y_one_hot = np.array(y_one_hot)\n",
    "X = np.insert(X,0,np.ones(X.shape[0]),axis=1)"
   ]
  },
  {
   "cell_type": "code",
   "execution_count": 4,
   "id": "abef2d16-bba0-4fe7-9721-a516f1f67df1",
   "metadata": {},
   "outputs": [],
   "source": [
    "def ser(theta_1,theta_2):\n",
    "    return np.concatenate((np.ravel(theta_1),np.ravel(theta_2)))"
   ]
  },
  {
   "cell_type": "code",
   "execution_count": 5,
   "id": "37b724e0-cf84-4bb9-8bf7-66332b8810de",
   "metadata": {},
   "outputs": [],
   "source": [
    "def diser(theta_all):\n",
    "    return theta_all[:25*401].reshape(25,401) , theta_all[25*401:].reshape(10,26)"
   ]
  },
  {
   "cell_type": "code",
   "execution_count": 6,
   "id": "bb18736e-fcbe-44da-84c5-684f19441e22",
   "metadata": {},
   "outputs": [],
   "source": [
    "def sigmoid(X):\n",
    "    return 1 / (1 + np.exp(-X))"
   ]
  },
  {
   "cell_type": "code",
   "execution_count": 7,
   "id": "585eb125-86d8-4267-b2ab-474210b33164",
   "metadata": {},
   "outputs": [],
   "source": [
    "def feed_forward(theta_all,X):\n",
    "    theta_1,theta_2 = diser(theta_all)\n",
    "    a1 = X\n",
    "    z2 = a1@theta_1.T\n",
    "    a2 = sigmoid(z2)\n",
    "    a2 = np.insert(a2,0,np.ones(a2.shape[0]),axis=1)\n",
    "\n",
    "    z3 = a2@theta_2.T\n",
    "    a3 = sigmoid(z3)\n",
    "\n",
    "    return a1,z2,a2,z3,a3"
   ]
  },
  {
   "cell_type": "code",
   "execution_count": 8,
   "id": "8a3189b8-7308-4112-aab5-5dcbf627cfb4",
   "metadata": {},
   "outputs": [],
   "source": [
    "def cost(theta, X, y):\n",
    "    h = feed_forward(theta, X)[-1]\n",
    "    tmp = -y * np.log(h) - (1-y) * np.log(1-h)\n",
    "    return tmp.sum() / y.shape[0]"
   ]
  },
  {
   "cell_type": "code",
   "execution_count": 9,
   "id": "556082c9-76bd-4690-8f05-502623bd6109",
   "metadata": {},
   "outputs": [],
   "source": [
    "def reg_cos(theta_all,X,Y,lamda):\n",
    "    theta_1 ,theta_2 = diser(theta_all)\n",
    "    cos = cost(theta_all,X,Y)\n",
    "    reg_1 = np.sum(np.power(theta_1[:,1:],2)) * lamda / ( 2  *  len(X))\n",
    "    reg_2 = np.sum(np.power(theta_2[:,1:],2)) * lamda / ( 2  *  len(X))\n",
    "    \n",
    "    return cos + reg_1 + reg_2  "
   ]
  },
  {
   "cell_type": "code",
   "execution_count": 10,
   "id": "c611973f-4f07-448f-ac34-91b762e4619c",
   "metadata": {},
   "outputs": [],
   "source": [
    "def sigmoid_gradient(X):\n",
    "    return sigmoid(X)*(1 - sigmoid(X))"
   ]
  },
  {
   "cell_type": "code",
   "execution_count": 11,
   "id": "43f45d32-2a5c-4bd9-a8aa-38cc59141162",
   "metadata": {},
   "outputs": [],
   "source": [
    "def gradient(theta_all,X,Y):\n",
    "    theta_1 , theta_2 = diser(theta_all)\n",
    "    a1,z2,a2,z3,a3 = feed_forward(theta_all,X)\n",
    "    \n",
    "    d3 = a3 - Y\n",
    "    d2 = d3@theta_2[:,1:]*sigmoid_gradient(z2)\n",
    "    \n",
    "    D1 = d2.T@a1/len(X)\n",
    "    D2 = d3.T@a2/len(X)\n",
    "    return ser(D1,D2)"
   ]
  },
  {
   "cell_type": "code",
   "execution_count": 12,
   "id": "538b3418-0663-403c-a9b7-4028f2a79fc2",
   "metadata": {},
   "outputs": [],
   "source": [
    "def reg_gradient(theta_all,X,Y,lamda):\n",
    "    gr = gradient(theta_all,X,Y)\n",
    "    D1,D2 = diser(gr)\n",
    "    theta_1 ,theta_2 = diser(theta_all)\n",
    "    D1[:,1:] = D1[:,1:] + lamda / len(X) * theta_1[:,1:]\n",
    "    D2[:,1:] = D2[:,1:] + lamda / len(X) * theta_2[:,1:]\n",
    "    return ser(D1,D2)"
   ]
  },
  {
   "cell_type": "code",
   "execution_count": 13,
   "id": "e63dfb5f-709f-4e63-b27c-340e6be3329c",
   "metadata": {},
   "outputs": [],
   "source": [
    "def training(X,Y,lamda):\n",
    "    theta = np.random.uniform(-0.12,0.12,10285)\n",
    "    result = minimize(fun=reg_cos,x0=theta,args=(X,Y,1),method='TNC',jac=reg_gradient)\n",
    "    return result"
   ]
  },
  {
   "cell_type": "code",
   "execution_count": 14,
   "id": "f19f31aa-5216-48b3-bfb0-477d5624907d",
   "metadata": {},
   "outputs": [
    {
     "data": {
      "text/plain": [
       " message: Converged (|f_n-f_(n-1)| ~= 0)\n",
       " success: True\n",
       "  status: 1\n",
       "     fun: 0.2971806711828541\n",
       "       x: [-9.332e-01  2.211e-11 ... -2.129e-01 -5.192e-01]\n",
       "     nit: 239\n",
       "     jac: [-8.582e-10  4.421e-15 ... -3.477e-09  3.754e-08]\n",
       "    nfev: 6326"
      ]
     },
     "execution_count": 14,
     "metadata": {},
     "output_type": "execute_result"
    }
   ],
   "source": [
    "res = training(X,y_one_hot,1)\n",
    "res"
   ]
  },
  {
   "cell_type": "code",
   "execution_count": 15,
   "id": "8a87ccb5-3108-475a-b027-0f9e55e5bf4e",
   "metadata": {},
   "outputs": [
    {
     "name": "stdout",
     "output_type": "stream",
     "text": [
      "[10 10 10 ...  9  9  9]\n"
     ]
    }
   ],
   "source": [
    "print(Y.reshape(-1))"
   ]
  },
  {
   "cell_type": "code",
   "execution_count": 16,
   "id": "7a377f96-80c6-4b1e-8032-dbcdcf8e68bd",
   "metadata": {},
   "outputs": [
    {
     "name": "stdout",
     "output_type": "stream",
     "text": [
      "              precision    recall  f1-score   support\n",
      "\n",
      "           1       0.99      1.00      1.00       500\n",
      "           2       1.00      1.00      1.00       500\n",
      "           3       1.00      0.99      0.99       500\n",
      "           4       1.00      0.99      1.00       500\n",
      "           5       1.00      1.00      1.00       500\n",
      "           6       1.00      1.00      1.00       500\n",
      "           7       0.99      1.00      1.00       500\n",
      "           8       1.00      1.00      1.00       500\n",
      "           9       0.99      0.99      0.99       500\n",
      "          10       0.99      1.00      1.00       500\n",
      "\n",
      "    accuracy                           1.00      5000\n",
      "   macro avg       1.00      1.00      1.00      5000\n",
      "weighted avg       1.00      1.00      1.00      5000\n",
      "\n",
      "[10 10 10 ...  9  9  9]\n"
     ]
    }
   ],
   "source": [
    "out = feed_forward(res.x,X)[-1]\n",
    "y_p = np.argmax(out,axis=1) + 1\n",
    "print(classification_report(Y.reshape(-1),y_p))\n",
    "print(y_p)"
   ]
  },
  {
   "cell_type": "code",
   "execution_count": 17,
   "id": "88180d0e-7124-463a-ac27-fc86e9adf21a",
   "metadata": {},
   "outputs": [],
   "source": [
    "def expand_array(arr):\n",
    "    return np.array(np.matrix(np.ones(arr.shape[0])).T@np.matrix(arr))"
   ]
  },
  {
   "cell_type": "code",
   "execution_count": 24,
   "id": "ed17704a-7bf6-47b9-b572-bbfdff5a1eaa",
   "metadata": {},
   "outputs": [],
   "source": [
    "def gradient_check(theta,epsilon,X,Y):\n",
    "    m = len(theta)\n",
    "    theta_change = expand_array(theta)\n",
    "    epsilon_matrix = np.identity(m) * epsilon\n",
    "    plus_matrix = theta_change + epsilon_matrix\n",
    "    mins_matrix = theta_change - epsilon_matrix\n",
    "    approx_grad = []\n",
    "    for i in range(m):\n",
    "        approx_grad.append((reg_cos(plus_matrix[i],X,Y,1) - reg_cos(mins_matrix[i],X,Y,1)) / (2 * epsilon))\n",
    "    approx_grad = np.array(approx_grad)\n",
    "    analize_grad = reg_gradient(theta,X,Y,1)\n",
    "\n",
    "    \n",
    "    diff = np.linalg.norm(approx_grad - analize_grad) / np.linalg.norm(approx_grad + analize_grad)\n",
    "    print(diff)"
   ]
  },
  {
   "cell_type": "code",
   "execution_count": 25,
   "id": "f80ef4dc-be43-4279-8ec7-430924ea2c5c",
   "metadata": {},
   "outputs": [
    {
     "name": "stdout",
     "output_type": "stream",
     "text": [
      "3.028137994555929e-07\n"
     ]
    }
   ],
   "source": [
    "the = ser(theta_1,theta_2)\n",
    "gradient_check(the,0.001,X,y_one_hot)"
   ]
  },
  {
   "cell_type": "code",
   "execution_count": null,
   "id": "9aa9cd96-8264-4fc7-a2e5-6c84958676e3",
   "metadata": {},
   "outputs": [],
   "source": []
  }
 ],
 "metadata": {
  "kernelspec": {
   "display_name": "Python 3 (ipykernel)",
   "language": "python",
   "name": "python3"
  },
  "language_info": {
   "codemirror_mode": {
    "name": "ipython",
    "version": 3
   },
   "file_extension": ".py",
   "mimetype": "text/x-python",
   "name": "python",
   "nbconvert_exporter": "python",
   "pygments_lexer": "ipython3",
   "version": "3.10.7"
  }
 },
 "nbformat": 4,
 "nbformat_minor": 5
}
