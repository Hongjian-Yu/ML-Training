{
 "cells": [
  {
   "cell_type": "code",
   "execution_count": 1,
   "id": "4cb9962c-7fd7-40cf-b355-bb3bd7f1c48c",
   "metadata": {},
   "outputs": [],
   "source": [
    "import numpy as np\n",
    "import matplotlib.pyplot as plt\n",
    "import matplotlib\n",
    "from scipy.io import loadmat\n",
    "from sklearn.metrics import classification_report\n",
    "from scipy.optimize import minimize"
   ]
  },
  {
   "cell_type": "code",
   "execution_count": 2,
   "id": "d97970ba-5343-421f-bffc-1bac571df147",
   "metadata": {},
   "outputs": [
    {
     "name": "stdout",
     "output_type": "stream",
     "text": [
      "(5000, 400)\n",
      "(5000,)\n"
     ]
    }
   ],
   "source": [
    "path_1 = 'ex4data1.mat'\n",
    "path_2 = 'ex4weights.mat'\n",
    "data = loadmat(path_1)\n",
    "X = data['X']\n",
    "Y = data['y']\n",
    "yy=Y\n",
    "Y = Y.reshape(-1)\n",
    "print(X.shape)\n",
    "print(Y.shape)"
   ]
  },
  {
   "cell_type": "code",
   "execution_count": 3,
   "id": "c7698fd1-a144-40cd-810b-051df8050c5f",
   "metadata": {},
   "outputs": [
    {
     "data": {
      "image/png": "[encoded data removed]",
      "text/plain": [
       "<Figure size 100x100 with 1 Axes>"
      ]
     },
     "metadata": {},
     "output_type": "display_data"
    }
   ],
   "source": [
    "def plot_image(X):\n",
    "\n",
    "    fig,ax = plt.subplots(figsize=(1,1))\n",
    "    ax.matshow(X[1000,:].reshape(20,20),cmap=matplotlib.cm.binary)\n",
    "    plt.xticks(np.array([]))\n",
    "    plt.yticks(np.array([]))\n",
    "    plt.show()\n",
    "plot_image(X)"
   ]
  },
  {
   "cell_type": "code",
   "execution_count": 4,
   "id": "4467a6a5-1efc-40dc-8235-2713ab673c12",
   "metadata": {},
   "outputs": [],
   "source": [
    "def one_hot(Y):\n",
    "    res=[]\n",
    "    for i in Y:\n",
    "        temp = np.zeros(10)\n",
    "        temp[i-1] = 1\n",
    "        res.append(temp)\n",
    "    return np.array(temp)\n",
    "Y = one_hot(Y)"
   ]
  },
  {
   "cell_type": "code",
   "execution_count": 5,
   "id": "75934db1-fe25-4c1a-a105-05169090f841",
   "metadata": {},
   "outputs": [
    {
     "name": "stdout",
     "output_type": "stream",
     "text": [
      "(25, 401)\n",
      "(10, 26)\n"
     ]
    }
   ],
   "source": [
    "X = np.insert(X,0,np.ones(X.shape[0]),axis=1)\n",
    "theta = loadmat(path_2)\n",
    "theta_1 = theta['Theta1']\n",
    "theta_2 = theta['Theta2']\n",
    "print(theta_1.shape)\n",
    "print(theta_2.shape)"
   ]
  },
  {
   "cell_type": "code",
   "execution_count": 6,
   "id": "ffcc0f7c-596b-44ed-8bd3-13eb115bcc95",
   "metadata": {},
   "outputs": [],
   "source": [
    "def sigmoid(X):\n",
    "    return 1 / (1 + np.exp(-X))"
   ]
  },
  {
   "cell_type": "code",
   "execution_count": 7,
   "id": "e64f50b5-164d-4dc6-ad92-a8d45d763c14",
   "metadata": {},
   "outputs": [],
   "source": [
    "def feed_forward(theta_1,theta_2,X):\n",
    "    a1 = X\n",
    "    z2 = a1@theta_1.T\n",
    "    a2 = sigmoid(z2)\n",
    "    a2 = np.insert(a2,0,np.ones(z2.shape[0]),axis=1)\n",
    "    z3 = a2@theta_2.T\n",
    "    a3 = sigmoid(z3)\n",
    "    y_pred = a3\n",
    "    return a1,z2,a2,z3,a3"
   ]
  },
  {
   "cell_type": "code",
   "execution_count": 8,
   "id": "0cbf3b55-275a-4885-9a8b-20c7906226dc",
   "metadata": {},
   "outputs": [
    {
     "name": "stdout",
     "output_type": "stream",
     "text": [
      "(5000, 10)\n"
     ]
    }
   ],
   "source": [
    "a3 = feed_forward(theta_1,theta_2,X)[-1]\n",
    "print(a3.shape)"
   ]
  },
  {
   "cell_type": "code",
   "execution_count": 9,
   "id": "06262dd7-995c-461a-9c93-1a0932194adc",
   "metadata": {},
   "outputs": [],
   "source": [
    "def cost(theta_1,theta_2,X,Y):\n",
    "    y_pred = feed_forward(theta_1,theta_2,X)[-1]\n",
    "    first = np.multiply(np.log(y_pred),Y)\n",
    "    second = np.multiply(np.log(1 - y_pred),(1-Y))\n",
    "    return -np.mean(first + second)"
   ]
  },
  {
   "cell_type": "code",
   "execution_count": null,
   "id": "36bf46fe-9387-4f31-8d07-5f65be878d9c",
   "metadata": {},
   "outputs": [],
   "source": []
  },
  {
   "cell_type": "code",
   "execution_count": 10,
   "id": "6f78d455-4cee-4d48-a7f9-2e442c1ac923",
   "metadata": {},
   "outputs": [],
   "source": [
    "def sigmoid_gradient(X):\n",
    "    return sigmoid(X) * (1 - sigmoid(X))"
   ]
  },
  {
   "cell_type": "code",
   "execution_count": 11,
   "id": "b47e3121-c9d4-4a7c-b5e4-d7a6687aa612",
   "metadata": {},
   "outputs": [],
   "source": [
    "def gradient(theta_1,theta_2,X,Y):\n",
    "    a1,z2,a2,z3,a3 = feed_forward(theta_1,theta_2,X)\n",
    "    d3 = a3 - Y\n",
    "    # print(theta_2.shape)\n",
    "    # print(d3.shape)\n",
    "    d2 = d3@theta_2[:,1:]*sigmoid_gradient(z2)\n",
    "    D2 = (d3.T@a2) / len(X)\n",
    "    D1 = (d2.T@a1) / len(X)\n",
    "    return D1,D2"
   ]
  },
  {
   "cell_type": "code",
   "execution_count": 12,
   "id": "2afd7322-d606-441f-a7c9-2986ed672f66",
   "metadata": {},
   "outputs": [],
   "source": [
    "def gradient_Descdent(theta_1,theta_2,X,Y,lr,iter):\n",
    "    for i in range(iter):\n",
    "    \n",
    "        D1,D2 = gradient(theta_1,theta_2,X,Y)\n",
    "\n",
    "        theta_1 = theta_1 - lr * D1 / len(X)\n",
    "        theta_2 = theta_2 - lr * D2 / len(X)\n",
    "\n",
    "    return theta_1,theta_2"
   ]
  },
  {
   "cell_type": "code",
   "execution_count": 13,
   "id": "fc33956e-a709-4412-a948-c4a818626d34",
   "metadata": {},
   "outputs": [
    {
     "name": "stdout",
     "output_type": "stream",
     "text": [
      "[[-2.24120553e-02 -1.05624163e-08  2.19414684e-09 ... -1.30542705e-05\n",
      "  -5.04175238e-06  2.80464449e-09]\n",
      " [-9.81436680e-02  7.66168682e-09 -9.75873689e-09 ... -5.60132406e-05\n",
      "   2.00944679e-07  3.54422854e-09]\n",
      " [ 1.16055161e-01 -8.77654466e-09  8.16037764e-09 ... -1.20952285e-04\n",
      "  -2.33669293e-06 -7.50668099e-09]\n",
      " ...\n",
      " [-1.83140023e-01 -8.89272060e-09 -9.81968100e-09 ...  2.35308975e-05\n",
      "  -3.25483123e-06  9.02499060e-09]\n",
      " [-7.02285096e-01  3.05178374e-10  2.56061008e-09 ... -8.61756949e-04\n",
      "   9.43449038e-05  3.83761998e-09]\n",
      " [-3.51350180e-01  8.85876862e-09 -6.57515140e-10 ... -1.80461610e-06\n",
      "  -8.14456779e-06  8.79454531e-09]]\n",
      "[[-2.25623899e-02 -1.05624163e-08  2.19414684e-09 ... -1.30529929e-05\n",
      "  -5.04175101e-06  2.80464449e-09]\n",
      " [-9.83811294e-02  7.66168682e-09 -9.75873689e-09 ... -5.60134007e-05\n",
      "   2.00940969e-07  3.54422854e-09]\n",
      " [ 1.16156052e-01 -8.77654466e-09  8.16037764e-09 ... -1.20951657e-04\n",
      "  -2.33669661e-06 -7.50668099e-09]\n",
      " ...\n",
      " [-1.83220638e-01 -8.89272060e-09 -9.81968100e-09 ...  2.35311186e-05\n",
      "  -3.25484493e-06  9.02499060e-09]\n",
      " [-7.02096331e-01  3.05178374e-10  2.56061008e-09 ... -8.61759744e-04\n",
      "   9.43449909e-05  3.83761998e-09]\n",
      " [-3.50933229e-01  8.85876862e-09 -6.57515140e-10 ... -1.80365926e-06\n",
      "  -8.14464807e-06  8.79454531e-09]]\n"
     ]
    }
   ],
   "source": [
    "w_1,w_2 = gradient_Descdent(theta_1,theta_2,X,Y,0.01,1000)\n",
    "y_p = feed_forward(w_1,w_2,X)[-1]"
   ]
  },
  {
   "cell_type": "code",
   "execution_count": 14,
   "id": "be803f81-e657-46be-a73b-457524454e31",
   "metadata": {},
   "outputs": [
    {
     "name": "stdout",
     "output_type": "stream",
     "text": [
      "              precision    recall  f1-score   support\n",
      "\n",
      "           1       0.98      0.97      0.98       507\n",
      "           2       0.97      0.98      0.98       494\n",
      "           3       0.96      0.98      0.97       491\n",
      "           4       0.97      0.97      0.97       499\n",
      "           5       0.98      0.97      0.98       506\n",
      "           6       0.99      0.98      0.98       504\n",
      "           7       0.97      0.98      0.97       495\n",
      "           8       0.98      0.98      0.98       502\n",
      "           9       0.96      0.97      0.96       497\n",
      "          10       0.99      0.98      0.99       505\n",
      "\n",
      "    accuracy                           0.98      5000\n",
      "   macro avg       0.98      0.98      0.98      5000\n",
      "weighted avg       0.98      0.98      0.98      5000\n",
      "\n"
     ]
    }
   ],
   "source": [
    "y_o = np.argmax(y_p,axis=1) + 1\n",
    "\n",
    "# y_o = one_hot(y_o)\n",
    "print(classification_report(y_o,yy))"
   ]
  },
  {
   "cell_type": "code",
   "execution_count": 15,
   "id": "5bcb5872-41ba-4308-8118-1060e373e8e9",
   "metadata": {},
   "outputs": [
    {
     "ename": "TypeError",
     "evalue": "unsupported operand type(s) for -: 'int' and 'list'",
     "output_type": "error",
     "traceback": [
      "\u001b[1;31m---------------------------------------------------------------------------\u001b[0m",
      "\u001b[1;31mTypeError\u001b[0m                                 Traceback (most recent call last)",
      "Cell \u001b[1;32mIn[15], line 2\u001b[0m\n\u001b[0;32m      1\u001b[0m li \u001b[38;5;241m=\u001b[39m [\u001b[38;5;241m1\u001b[39m,\u001b[38;5;241m2\u001b[39m,\u001b[38;5;241m3\u001b[39m]\n\u001b[1;32m----> 2\u001b[0m \u001b[38;5;28mprint\u001b[39m(\u001b[38;5;241;43m5\u001b[39;49m\u001b[43m \u001b[49m\u001b[38;5;241;43m-\u001b[39;49m\u001b[43m \u001b[49m\u001b[43mli\u001b[49m)\n",
      "\u001b[1;31mTypeError\u001b[0m: unsupported operand type(s) for -: 'int' and 'list'"
     ]
    }
   ],
   "source": [
    "li = [1,2,3]\n",
    "print(5 - li)"
   ]
  },
  {
   "cell_type": "code",
   "execution_count": null,
   "id": "e96bfee1-4b86-4b60-9e7a-5bf8cf236fe5",
   "metadata": {},
   "outputs": [],
   "source": []
  }
 ],
 "metadata": {
  "kernelspec": {
   "display_name": "Python 3 (ipykernel)",
   "language": "python",
   "name": "python3"
  },
  "language_info": {
   "codemirror_mode": {
    "name": "ipython",
    "version": 3
   },
   "file_extension": ".py",
   "mimetype": "text/x-python",
   "name": "python",
   "nbconvert_exporter": "python",
   "pygments_lexer": "ipython3",
   "version": "3.10.7"
  }
 },
 "nbformat": 4,
 "nbformat_minor": 5
}
