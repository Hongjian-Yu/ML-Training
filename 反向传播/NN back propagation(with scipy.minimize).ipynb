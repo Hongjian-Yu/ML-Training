{
 "cells": [
  {
   "cell_type": "code",
   "execution_count": 1,
   "id": "f3c593d2-8f50-45ae-a034-6dcd8329161c",
   "metadata": {},
   "outputs": [],
   "source": [
    "import numpy as np\n",
    "import matplotlib\n",
    "import matplotlib.pyplot as plt\n",
    "from scipy.io import loadmat\n",
    "from scipy.optimize import minimize\n",
    "from sklearn.metrics import classification_report"
   ]
  },
  {
   "cell_type": "code",
   "execution_count": 2,
   "id": "b0a5b6bf-439f-4a6a-8bcb-11663401a1af",
   "metadata": {},
   "outputs": [],
   "source": [
    "def one_hot(Y):\n",
    "    res = []\n",
    "    for i in Y:\n",
    "        temp = np.zeros(10)\n",
    "        temp[i-1] = 1\n",
    "        res.append(temp)\n",
    "    return res"
   ]
  },
  {
   "cell_type": "code",
   "execution_count": 3,
   "id": "6ac511ed-2dbb-4c1e-9a86-e7671cee10e5",
   "metadata": {},
   "outputs": [],
   "source": [
    "path_1 = 'ex4data1.mat'\n",
    "path_2 = 'ex4weights.mat'\n",
    "data = loadmat(path_1)\n",
    "theta = loadmat(path_2)\n",
    "X = data['X']\n",
    "Y = data['y']\n",
    "theta_1 = theta['Theta1']\n",
    "theta_2 = theta['Theta2']\n",
    "YY = Y.reshape(-1)\n",
    "YY = one_hot(YY)\n",
    "YY = np.array(YY)\n",
    "X = np.insert(X,0,np.ones(X.shape[0]),axis=1)"
   ]
  },
  {
   "cell_type": "code",
   "execution_count": 4,
   "id": "cd271978-6c90-4d9a-a459-eef17c91a28f",
   "metadata": {},
   "outputs": [],
   "source": [
    "def serialize(theta_1,theta_2):\n",
    "    return np.concatenate((np.ravel(theta_1),np.ravel(theta_2)))"
   ]
  },
  {
   "cell_type": "code",
   "execution_count": 5,
   "id": "4c8591a3-98b2-48c7-a358-24d4a520f5cb",
   "metadata": {},
   "outputs": [],
   "source": [
    "def deserialize(theta_all):\n",
    "    return theta_all[:25*401].reshape(25,401), theta_all[25*401:].reshape(10,26)"
   ]
  },
  {
   "cell_type": "code",
   "execution_count": 6,
   "id": "bd34788f-395f-4beb-8145-a73e938a52e9",
   "metadata": {},
   "outputs": [],
   "source": [
    "def sigmoid(X):\n",
    "    return 1 / (1 + np.exp(-X))"
   ]
  },
  {
   "cell_type": "code",
   "execution_count": 7,
   "id": "03178cb0-7cdf-4dc5-90fc-d2e896bd7881",
   "metadata": {},
   "outputs": [],
   "source": [
    "def feed_forward(theta_all,X):\n",
    "    w_1,w_2 = deserialize(theta_all)\n",
    "    a1 = X\n",
    "    z2 = a1@w_1.T\n",
    "    a2 = sigmoid(z2)\n",
    "    a2 = np.insert(a2,0,np.ones(a2.shape[0]),axis=1)\n",
    "\n",
    "    z3 = a2@w_2.T\n",
    "    a3 = sigmoid(z3)\n",
    "\n",
    "    y_p = a3\n",
    "    return a1,z2,a2,z3,a3"
   ]
  },
  {
   "cell_type": "code",
   "execution_count": 8,
   "id": "ec970662-664e-40ae-969e-bd28546e71b2",
   "metadata": {},
   "outputs": [
    {
     "name": "stdout",
     "output_type": "stream",
     "text": [
      "(10, 26)\n",
      "(25, 401)\n",
      "(5000, 10)\n",
      "(5000, 25)\n"
     ]
    }
   ],
   "source": [
    "print(theta_2.shape)\n",
    "print(theta_1.shape)\n",
    "# print(np.array(feed_forward(serialize(theta_1,theta_2),X,Y)[-1]).shape)\n",
    "print(np.array(YY).shape)\n",
    "print(np.array(feed_forward(serialize(theta_1,theta_2),X)[1]).shape)"
   ]
  },
  {
   "cell_type": "code",
   "execution_count": 9,
   "id": "e1bda9b8-6e30-4730-95ca-a220a73a02bd",
   "metadata": {},
   "outputs": [],
   "source": [
    "def cost(theta, X, y):\n",
    "    h = feed_forward(theta, X)[-1]\n",
    "    tmp = -y * np.log(h) - (1-y) * np.log(1-h)\n",
    "    return tmp.sum() / y.shape[0]"
   ]
  },
  {
   "cell_type": "code",
   "execution_count": 10,
   "id": "ca712914-83ea-41e1-8d64-4a9495aafd38",
   "metadata": {},
   "outputs": [],
   "source": [
    "def sigmoid_gradient(X):\n",
    "    return sigmoid(X) * (1 - sigmoid(X))"
   ]
  },
  {
   "cell_type": "code",
   "execution_count": 11,
   "id": "6cf05bfb-47c1-4c53-8a6b-104bd481581e",
   "metadata": {},
   "outputs": [],
   "source": [
    "def gradient(theta_all,X,Y):\n",
    "    w_1,w_2 = deserialize(theta_all)\n",
    "    a1,z2,a2,z3,a3 = feed_forward(theta_all,X)\n",
    "    d3 = a3 - Y\n",
    "    d2 = d3@w_2[:,1:]*sigmoid_gradient(z2)\n",
    "    D2 = (d3.T@a2) / len(X)\n",
    "    D1 = (d2.T@a1) / len(X)\n",
    "    return serialize(D1,D2)"
   ]
  },
  {
   "cell_type": "code",
   "execution_count": 12,
   "id": "312ca6ef-f9ce-446a-ab0a-bc2b2858d444",
   "metadata": {},
   "outputs": [],
   "source": [
    "def reg_cost(theta_serialize,X,y,lamda):\n",
    "    theta1,theta2 = deserialize(theta_serialize)\n",
    "    sum1 = np.sum(np.power(theta1[:,1:],2)) # 注意从1开始\n",
    "    sum2 = np.sum(np.power(theta2[:,1:],2))\n",
    "    reg = (sum1 + sum2) * lamda / (2*len(X))\n",
    "    return reg + cost(theta_serialize,X,y)  # 注意返回值加上了cost()"
   ]
  },
  {
   "cell_type": "code",
   "execution_count": 13,
   "id": "0f340851-ea8c-4860-a22c-3f5c5b9eafbd",
   "metadata": {},
   "outputs": [],
   "source": [
    "def reg_gradient(theta_serialize,X,y,lamda):\n",
    "    D = gradient(theta_serialize,X,y)\n",
    "    D1,D2 = deserialize(D)\n",
    "    \n",
    "    theta1,theta2 = deserialize(theta_serialize)\n",
    "    D1[:,1:] = D1[:,1:]  + theta1[:,1:] * lamda / len(X)\n",
    "    D2[:,1:] = D2[:,1:]  + theta2[:,1:] * lamda / len(X)\n",
    "    \n",
    "    return serialize(D1,D2)"
   ]
  },
  {
   "cell_type": "code",
   "execution_count": 14,
   "id": "e7fa927e-b256-4b7a-b929-3c4dee784dd8",
   "metadata": {},
   "outputs": [],
   "source": [
    "def training(X,Y):\n",
    "    # theta = np.zeros(10285)\n",
    "    # theta = np.random.uniform(-0.5,0.5,10285)\n",
    "    theta = np.random.uniform(-0.12, 0.12, 10285)\n",
    "    result = minimize(fun=reg_cost,x0=theta,args=(X,Y,1),method='TNC',jac=reg_gradient)\n",
    "    return result"
   ]
  },
  {
   "cell_type": "code",
   "execution_count": 15,
   "id": "a5c9e202-d5f8-46ba-a833-2dbfa0d08773",
   "metadata": {},
   "outputs": [],
   "source": [
    "res = training(X,YY)\n",
    "y_p = feed_forward(res.x,X)[-1]"
   ]
  },
  {
   "cell_type": "code",
   "execution_count": 16,
   "id": "80b591e7-33ec-4e1f-9fec-fad2ebf5db58",
   "metadata": {},
   "outputs": [
    {
     "data": {
      "text/plain": [
       " message: Converged (|f_n-f_(n-1)| ~= 0)\n",
       " success: True\n",
       "  status: 1\n",
       "     fun: 0.2974060293738159\n",
       "       x: [-2.068e+00 -5.269e-11 ... -1.622e+00 -1.094e+00]\n",
       "     nit: 165\n",
       "     jac: [ 8.808e-08 -1.054e-14 ...  8.438e-08  3.500e-08]\n",
       "    nfev: 4348"
      ]
     },
     "execution_count": 16,
     "metadata": {},
     "output_type": "execute_result"
    }
   ],
   "source": [
    "res"
   ]
  },
  {
   "cell_type": "code",
   "execution_count": 17,
   "id": "2a44d799-e3ce-4019-ae3f-c05ac75ef13c",
   "metadata": {},
   "outputs": [
    {
     "name": "stdout",
     "output_type": "stream",
     "text": [
      "[10 10 10 ...  9  9  9]\n"
     ]
    }
   ],
   "source": [
    "y_pred = np.argmax(y_p,axis=1) + 1\n",
    "print(y_pred)"
   ]
  },
  {
   "cell_type": "code",
   "execution_count": 18,
   "id": "4c5b82d5-4efe-4e76-b54e-ff2d3b37e337",
   "metadata": {},
   "outputs": [
    {
     "name": "stdout",
     "output_type": "stream",
     "text": [
      "              precision    recall  f1-score   support\n",
      "\n",
      "           1       0.99      1.00      1.00       500\n",
      "           2       1.00      1.00      1.00       500\n",
      "           3       1.00      0.99      1.00       500\n",
      "           4       1.00      0.99      1.00       500\n",
      "           5       1.00      1.00      1.00       500\n",
      "           6       1.00      1.00      1.00       500\n",
      "           7       0.99      1.00      1.00       500\n",
      "           8       1.00      1.00      1.00       500\n",
      "           9       0.99      0.99      0.99       500\n",
      "          10       1.00      1.00      1.00       500\n",
      "\n",
      "    accuracy                           1.00      5000\n",
      "   macro avg       1.00      1.00      1.00      5000\n",
      "weighted avg       1.00      1.00      1.00      5000\n",
      "\n"
     ]
    }
   ],
   "source": [
    "print(classification_report(Y,y_pred))"
   ]
  },
  {
   "cell_type": "code",
   "execution_count": null,
   "id": "45724e03-cf18-4bfe-9cf7-0ec6fddad3c7",
   "metadata": {},
   "outputs": [],
   "source": []
  }
 ],
 "metadata": {
  "kernelspec": {
   "display_name": "Python 3 (ipykernel)",
   "language": "python",
   "name": "python3"
  },
  "language_info": {
   "codemirror_mode": {
    "name": "ipython",
    "version": 3
   },
   "file_extension": ".py",
   "mimetype": "text/x-python",
   "name": "python",
   "nbconvert_exporter": "python",
   "pygments_lexer": "ipython3",
   "version": "3.10.7"
  }
 },
 "nbformat": 4,
 "nbformat_minor": 5
}
