{
 "cells": [
  {
   "cell_type": "code",
   "execution_count": 1,
   "id": "2710bb5a-86a3-4544-9cec-1018398618e8",
   "metadata": {},
   "outputs": [],
   "source": [
    "import numpy as np\n",
    "import matplotlib.pyplot as plt\n",
    "import pandas as pd"
   ]
  },
  {
   "cell_type": "code",
   "execution_count": 2,
   "id": "bb45650e-99ff-402f-a2d7-3ef44c1e480f",
   "metadata": {},
   "outputs": [
    {
     "data": {
      "text/html": [
       "<div>\n",
       "<style scoped>\n",
       "    .dataframe tbody tr th:only-of-type {\n",
       "        vertical-align: middle;\n",
       "    }\n",
       "\n",
       "    .dataframe tbody tr th {\n",
       "        vertical-align: top;\n",
       "    }\n",
       "\n",
       "    .dataframe thead th {\n",
       "        text-align: right;\n",
       "    }\n",
       "</style>\n",
       "<table border=\"1\" class=\"dataframe\">\n",
       "  <thead>\n",
       "    <tr style=\"text-align: right;\">\n",
       "      <th></th>\n",
       "      <th>x1</th>\n",
       "      <th>x2</th>\n",
       "      <th>y</th>\n",
       "    </tr>\n",
       "  </thead>\n",
       "  <tbody>\n",
       "    <tr>\n",
       "      <th>0</th>\n",
       "      <td>34.623660</td>\n",
       "      <td>78.024693</td>\n",
       "      <td>0</td>\n",
       "    </tr>\n",
       "    <tr>\n",
       "      <th>1</th>\n",
       "      <td>30.286711</td>\n",
       "      <td>43.894998</td>\n",
       "      <td>0</td>\n",
       "    </tr>\n",
       "    <tr>\n",
       "      <th>2</th>\n",
       "      <td>35.847409</td>\n",
       "      <td>72.902198</td>\n",
       "      <td>0</td>\n",
       "    </tr>\n",
       "    <tr>\n",
       "      <th>3</th>\n",
       "      <td>60.182599</td>\n",
       "      <td>86.308552</td>\n",
       "      <td>1</td>\n",
       "    </tr>\n",
       "    <tr>\n",
       "      <th>4</th>\n",
       "      <td>79.032736</td>\n",
       "      <td>75.344376</td>\n",
       "      <td>1</td>\n",
       "    </tr>\n",
       "  </tbody>\n",
       "</table>\n",
       "</div>"
      ],
      "text/plain": [
       "          x1         x2  y\n",
       "0  34.623660  78.024693  0\n",
       "1  30.286711  43.894998  0\n",
       "2  35.847409  72.902198  0\n",
       "3  60.182599  86.308552  1\n",
       "4  79.032736  75.344376  1"
      ]
     },
     "execution_count": 2,
     "metadata": {},
     "output_type": "execute_result"
    }
   ],
   "source": [
    "path = 'ex2data1.txt'\n",
    "data = pd.read_csv(path,names=['x1','x2','y'])\n",
    "data.head()"
   ]
  },
  {
   "cell_type": "code",
   "execution_count": 3,
   "id": "9ec7217a-6d7b-4601-8f26-ee634aa8c6bd",
   "metadata": {},
   "outputs": [
    {
     "data": {
      "text/plain": [
       "<matplotlib.collections.PathCollection at 0x1ec3d045240>"
      ]
     },
     "execution_count": 3,
     "metadata": {},
     "output_type": "execute_result"
    },
    {
     "data": {
      "image/png": "[encoded data removed]",
      "text/plain": [
       "<Figure size 1000x600 with 1 Axes>"
      ]
     },
     "metadata": {},
     "output_type": "display_data"
    }
   ],
   "source": [
    "positive = data[data['y'].isin([1])]\n",
    "negative = data[data['y'].isin([0])]\n",
    "fig,ax = plt.subplots(figsize=(10,6))\n",
    "ax.scatter(positive['x1'],positive['x2'],c='r')\n",
    "ax.scatter(negative['x1'],negative['x2'],c='b')"
   ]
  },
  {
   "cell_type": "code",
   "execution_count": 4,
   "id": "9462b267-3db3-4447-ade8-f119abc94393",
   "metadata": {},
   "outputs": [],
   "source": [
    "def sigmoid(X):\n",
    "    return 1 / (1 +np.exp(-X))"
   ]
  },
  {
   "cell_type": "code",
   "execution_count": 5,
   "id": "81570ef1-d2da-4ce8-9c7c-526adfbff586",
   "metadata": {},
   "outputs": [],
   "source": [
    "def cost(theta,X,Y):\n",
    "    first = Y.flatten()*np.log(sigmoid(X@theta))\n",
    "    second = (1-Y.flatten())*np.log(1-sigmoid(X@theta))\n",
    "    # print((-1/len(X)*(first+second)).shape)\n",
    "    return np.sum(-1/len(X)*(first+second))"
   ]
  },
  {
   "cell_type": "code",
   "execution_count": 6,
   "id": "cb343366-7e19-4485-a3af-3158e539cc69",
   "metadata": {},
   "outputs": [],
   "source": [
    "def gradient(theta,X,Y):\n",
    "    # print(X.shape)\n",
    "    # print(theta.shape)\n",
    "    tem1 = sigmoid(X@theta) - Y.flatten()\n",
    "    return tem1.T@X/len(X)"
   ]
  },
  {
   "cell_type": "code",
   "execution_count": 7,
   "id": "74e8abfc-e2ca-48d3-aa74-f7cff1c079df",
   "metadata": {},
   "outputs": [],
   "source": [
    "def make_feature(power,x1,x2):\n",
    "    dict = {}\n",
    "    for i in range(0,power+1):\n",
    "        for j in range(0,i+1):\n",
    "            dict['F{}{}'.format(i-j,j)] = np.power(x1,i-j)*np.power(x2,j)\n",
    "    return pd.DataFrame(dict)\n",
    "power = 1"
   ]
  },
  {
   "cell_type": "code",
   "execution_count": 8,
   "id": "622bd2f4-dd6c-4029-81b7-fe1e3a026f75",
   "metadata": {},
   "outputs": [
    {
     "name": "stdout",
     "output_type": "stream",
     "text": [
      "[34.62365962 30.28671077 35.84740877 60.18259939 79.03273605 45.08327748\n",
      " 61.10666454 75.02474557 76.0987867  84.43281996 95.86155507 75.01365839\n",
      " 82.30705337 69.36458876 39.53833914 53.97105215 69.07014406 67.94685548\n",
      " 70.66150955 76.97878373 67.37202755 89.67677575 50.53478829 34.21206098\n",
      " 77.92409145 62.27101367 80.19018075 93.1143888  61.83020602 38.7858038\n",
      " 61.37928945 85.40451939 52.10797973 52.04540477 40.23689374 54.63510555\n",
      " 33.91550011 64.17698887 74.78925296 34.18364003 83.90239366 51.54772027\n",
      " 94.44336777 82.36875376 51.04775177 62.22267576 77.19303493 97.77159928\n",
      " 62.0730638  91.5649745  79.94481794 99.27252693 90.54671411 34.52451385\n",
      " 50.28649612 49.58667722 97.64563396 32.57720017 74.24869137 71.79646206\n",
      " 75.39561147 35.28611282 56.2538175  30.05882245 44.66826172 66.56089447\n",
      " 40.45755098 49.07256322 80.27957401 66.74671857 32.72283304 64.03932042\n",
      " 72.34649423 60.45788574 58.84095622 99.8278578  47.26426911 50.4581598\n",
      " 60.45555629 82.22666158 88.91389642 94.83450672 67.31925747 57.23870632\n",
      " 80.366756   68.46852179 42.07545454 75.47770201 78.63542435 52.34800399\n",
      " 94.09433113 90.44855097 55.48216114 74.49269242 89.84580671 83.48916274\n",
      " 42.26170081 99.31500881 55.34001756 74.775893  ]\n",
      "(100, 2)\n",
      "(100, 1)\n"
     ]
    }
   ],
   "source": [
    "X = data.iloc[:,0:2].values\n",
    "Y = data.iloc[:,2:].values\n",
    "print(X[:,0])\n",
    "print(X.shape)\n",
    "print(Y.shape)"
   ]
  },
  {
   "cell_type": "code",
   "execution_count": 9,
   "id": "fc819ee3-756d-4941-a7dc-6b5d822c021f",
   "metadata": {},
   "outputs": [
    {
     "data": {
      "text/html": [
       "<div>\n",
       "<style scoped>\n",
       "    .dataframe tbody tr th:only-of-type {\n",
       "        vertical-align: middle;\n",
       "    }\n",
       "\n",
       "    .dataframe tbody tr th {\n",
       "        vertical-align: top;\n",
       "    }\n",
       "\n",
       "    .dataframe thead th {\n",
       "        text-align: right;\n",
       "    }\n",
       "</style>\n",
       "<table border=\"1\" class=\"dataframe\">\n",
       "  <thead>\n",
       "    <tr style=\"text-align: right;\">\n",
       "      <th></th>\n",
       "      <th>F00</th>\n",
       "      <th>F10</th>\n",
       "      <th>F01</th>\n",
       "    </tr>\n",
       "  </thead>\n",
       "  <tbody>\n",
       "    <tr>\n",
       "      <th>0</th>\n",
       "      <td>1.0</td>\n",
       "      <td>34.623660</td>\n",
       "      <td>78.024693</td>\n",
       "    </tr>\n",
       "    <tr>\n",
       "      <th>1</th>\n",
       "      <td>1.0</td>\n",
       "      <td>30.286711</td>\n",
       "      <td>43.894998</td>\n",
       "    </tr>\n",
       "    <tr>\n",
       "      <th>2</th>\n",
       "      <td>1.0</td>\n",
       "      <td>35.847409</td>\n",
       "      <td>72.902198</td>\n",
       "    </tr>\n",
       "    <tr>\n",
       "      <th>3</th>\n",
       "      <td>1.0</td>\n",
       "      <td>60.182599</td>\n",
       "      <td>86.308552</td>\n",
       "    </tr>\n",
       "    <tr>\n",
       "      <th>4</th>\n",
       "      <td>1.0</td>\n",
       "      <td>79.032736</td>\n",
       "      <td>75.344376</td>\n",
       "    </tr>\n",
       "    <tr>\n",
       "      <th>...</th>\n",
       "      <td>...</td>\n",
       "      <td>...</td>\n",
       "      <td>...</td>\n",
       "    </tr>\n",
       "    <tr>\n",
       "      <th>95</th>\n",
       "      <td>1.0</td>\n",
       "      <td>83.489163</td>\n",
       "      <td>48.380286</td>\n",
       "    </tr>\n",
       "    <tr>\n",
       "      <th>96</th>\n",
       "      <td>1.0</td>\n",
       "      <td>42.261701</td>\n",
       "      <td>87.103851</td>\n",
       "    </tr>\n",
       "    <tr>\n",
       "      <th>97</th>\n",
       "      <td>1.0</td>\n",
       "      <td>99.315009</td>\n",
       "      <td>68.775409</td>\n",
       "    </tr>\n",
       "    <tr>\n",
       "      <th>98</th>\n",
       "      <td>1.0</td>\n",
       "      <td>55.340018</td>\n",
       "      <td>64.931938</td>\n",
       "    </tr>\n",
       "    <tr>\n",
       "      <th>99</th>\n",
       "      <td>1.0</td>\n",
       "      <td>74.775893</td>\n",
       "      <td>89.529813</td>\n",
       "    </tr>\n",
       "  </tbody>\n",
       "</table>\n",
       "<p>100 rows × 3 columns</p>\n",
       "</div>"
      ],
      "text/plain": [
       "    F00        F10        F01\n",
       "0   1.0  34.623660  78.024693\n",
       "1   1.0  30.286711  43.894998\n",
       "2   1.0  35.847409  72.902198\n",
       "3   1.0  60.182599  86.308552\n",
       "4   1.0  79.032736  75.344376\n",
       "..  ...        ...        ...\n",
       "95  1.0  83.489163  48.380286\n",
       "96  1.0  42.261701  87.103851\n",
       "97  1.0  99.315009  68.775409\n",
       "98  1.0  55.340018  64.931938\n",
       "99  1.0  74.775893  89.529813\n",
       "\n",
       "[100 rows x 3 columns]"
      ]
     },
     "execution_count": 9,
     "metadata": {},
     "output_type": "execute_result"
    }
   ],
   "source": [
    "data_new = make_feature(power,X[:,0],X[:,1])\n",
    "data_new"
   ]
  },
  {
   "cell_type": "code",
   "execution_count": 10,
   "id": "c1455b3a-3c24-416f-b961-efe517719ac1",
   "metadata": {},
   "outputs": [
    {
     "data": {
      "text/plain": [
       "(100, 3)"
      ]
     },
     "execution_count": 10,
     "metadata": {},
     "output_type": "execute_result"
    }
   ],
   "source": [
    "X_new = data_new.values\n",
    "shapes = data_new.shape[1]\n",
    "w = np.zeros(shapes)\n",
    "X_new.shape"
   ]
  },
  {
   "cell_type": "code",
   "execution_count": 11,
   "id": "18a5c06f-c2fd-48c4-ad0b-f0736cf70463",
   "metadata": {},
   "outputs": [],
   "source": [
    "from scipy.optimize import minimize"
   ]
  },
  {
   "cell_type": "code",
   "execution_count": 12,
   "id": "0eb0151e-6361-4d32-9679-259a3993f31f",
   "metadata": {},
   "outputs": [
    {
     "data": {
      "text/plain": [
       " message: Local minimum reached (|pg| ~= 0)\n",
       " success: True\n",
       "  status: 0\n",
       "     fun: 0.20349770158947533\n",
       "       x: [-2.516e+01  2.062e-01  2.015e-01]\n",
       "     nit: 17\n",
       "     jac: [ 9.005e-09  8.639e-08  4.721e-07]\n",
       "    nfev: 36"
      ]
     },
     "execution_count": 12,
     "metadata": {},
     "output_type": "execute_result"
    }
   ],
   "source": [
    "res = minimize(fun=cost,x0=w,args=(X_new,Y),method='TNC',jac=gradient)\n",
    "res"
   ]
  },
  {
   "cell_type": "code",
   "execution_count": 13,
   "id": "59f8ad42-dcf8-487b-9c9b-cbdf1c1366c5",
   "metadata": {},
   "outputs": [
    {
     "data": {
      "text/plain": [
       "0.20349770158947533"
      ]
     },
     "execution_count": 13,
     "metadata": {},
     "output_type": "execute_result"
    }
   ],
   "source": [
    "cost(res.x,X_new,Y)"
   ]
  },
  {
   "cell_type": "code",
   "execution_count": 14,
   "id": "cbb429de-82c8-4811-8c33-71d09addf20f",
   "metadata": {},
   "outputs": [
    {
     "data": {
      "text/plain": [
       "array([1, 2, 3, 4, 1, 2, 3, 4])"
      ]
     },
     "execution_count": 14,
     "metadata": {},
     "output_type": "execute_result"
    }
   ],
   "source": [
    "a = np.array([[1,2,3,4],[1,2,3,4]])\n",
    "a.ravel()"
   ]
  },
  {
   "cell_type": "code",
   "execution_count": 15,
   "id": "d8af7d2f-62ba-4397-b921-818511348e09",
   "metadata": {},
   "outputs": [
    {
     "data": {
      "image/png": "[encoded data removed]",
      "text/plain": [
       "<Figure size 640x480 with 1 Axes>"
      ]
     },
     "metadata": {},
     "output_type": "display_data"
    }
   ],
   "source": [
    "a = np.linspace(25,105,500)\n",
    "b = np.linspace(25,105,500)\n",
    "aa,bb = np.meshgrid(a,b)\n",
    "z = make_feature(power,aa.ravel(),bb.ravel())\n",
    "\n",
    "ZZ = z @ res.x\n",
    "ZZ = np.array(ZZ)\n",
    "ZZ = ZZ.reshape(aa.shape)\n",
    "plt.contour(aa,bb,ZZ,0)\n",
    "plt.scatter(positive['x1'],positive['x2'],c='r')\n",
    "plt.scatter(negative['x1'],negative['x2'],c='b')\n",
    "plt.show()"
   ]
  },
  {
   "cell_type": "code",
   "execution_count": null,
   "id": "1856233f-b8d9-488e-9ba1-4035234001fa",
   "metadata": {},
   "outputs": [],
   "source": []
  },
  {
   "cell_type": "code",
   "execution_count": null,
   "id": "4c384d3c-6517-47ae-9a8d-23b9b7dffe48",
   "metadata": {},
   "outputs": [],
   "source": []
  }
 ],
 "metadata": {
  "kernelspec": {
   "display_name": "Python 3 (ipykernel)",
   "language": "python",
   "name": "python3"
  },
  "language_info": {
   "codemirror_mode": {
    "name": "ipython",
    "version": 3
   },
   "file_extension": ".py",
   "mimetype": "text/x-python",
   "name": "python",
   "nbconvert_exporter": "python",
   "pygments_lexer": "ipython3",
   "version": "3.10.7"
  }
 },
 "nbformat": 4,
 "nbformat_minor": 5
}
