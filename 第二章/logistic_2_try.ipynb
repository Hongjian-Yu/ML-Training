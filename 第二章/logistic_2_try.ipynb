{
 "cells": [
  {
   "cell_type": "code",
   "execution_count": 1,
   "id": "c6192b8f-7e10-4a1e-aa36-73bb3efcc7f4",
   "metadata": {},
   "outputs": [],
   "source": [
    "import pandas as pd\n",
    "import numpy as np\n",
    "import matplotlib.pyplot as plt"
   ]
  },
  {
   "cell_type": "code",
   "execution_count": 2,
   "id": "bde766d6-fa4f-4623-8d54-3b6a8beb46b6",
   "metadata": {},
   "outputs": [
    {
     "data": {
      "text/html": [
       "<div>\n",
       "<style scoped>\n",
       "    .dataframe tbody tr th:only-of-type {\n",
       "        vertical-align: middle;\n",
       "    }\n",
       "\n",
       "    .dataframe tbody tr th {\n",
       "        vertical-align: top;\n",
       "    }\n",
       "\n",
       "    .dataframe thead th {\n",
       "        text-align: right;\n",
       "    }\n",
       "</style>\n",
       "<table border=\"1\" class=\"dataframe\">\n",
       "  <thead>\n",
       "    <tr style=\"text-align: right;\">\n",
       "      <th></th>\n",
       "      <th>x1</th>\n",
       "      <th>x2</th>\n",
       "      <th>y</th>\n",
       "    </tr>\n",
       "  </thead>\n",
       "  <tbody>\n",
       "    <tr>\n",
       "      <th>0</th>\n",
       "      <td>0.051267</td>\n",
       "      <td>0.69956</td>\n",
       "      <td>1</td>\n",
       "    </tr>\n",
       "    <tr>\n",
       "      <th>1</th>\n",
       "      <td>-0.092742</td>\n",
       "      <td>0.68494</td>\n",
       "      <td>1</td>\n",
       "    </tr>\n",
       "    <tr>\n",
       "      <th>2</th>\n",
       "      <td>-0.213710</td>\n",
       "      <td>0.69225</td>\n",
       "      <td>1</td>\n",
       "    </tr>\n",
       "    <tr>\n",
       "      <th>3</th>\n",
       "      <td>-0.375000</td>\n",
       "      <td>0.50219</td>\n",
       "      <td>1</td>\n",
       "    </tr>\n",
       "    <tr>\n",
       "      <th>4</th>\n",
       "      <td>-0.513250</td>\n",
       "      <td>0.46564</td>\n",
       "      <td>1</td>\n",
       "    </tr>\n",
       "  </tbody>\n",
       "</table>\n",
       "</div>"
      ],
      "text/plain": [
       "         x1       x2  y\n",
       "0  0.051267  0.69956  1\n",
       "1 -0.092742  0.68494  1\n",
       "2 -0.213710  0.69225  1\n",
       "3 -0.375000  0.50219  1\n",
       "4 -0.513250  0.46564  1"
      ]
     },
     "execution_count": 2,
     "metadata": {},
     "output_type": "execute_result"
    }
   ],
   "source": [
    "path = 'ex2data2.txt'\n",
    "data = pd.read_csv(path,names=['x1','x2','y'])\n",
    "data.head()"
   ]
  },
  {
   "cell_type": "code",
   "execution_count": 3,
   "id": "4d1d4a3c-813a-46c5-9baa-f1810f6b1057",
   "metadata": {},
   "outputs": [
    {
     "data": {
      "image/png": "[encoded data removed]",
      "text/plain": [
       "<Figure size 640x480 with 1 Axes>"
      ]
     },
     "metadata": {},
     "output_type": "display_data"
    }
   ],
   "source": [
    "positive = data[data['y'].isin([1])]\n",
    "negative = data[data['y'].isin([0])]\n",
    "plt.scatter(positive['x1'],positive['x2'],c='r')\n",
    "plt.scatter(negative['x1'],negative['x2'],c='b')\n",
    "plt.show()"
   ]
  },
  {
   "cell_type": "code",
   "execution_count": 4,
   "id": "4ca0c888-2e79-4f9f-b83e-62c7e85a8fb6",
   "metadata": {},
   "outputs": [],
   "source": [
    "def make_feature(x1,x2,power):\n",
    "    data = {}\n",
    "    for i in range(0,power+1):\n",
    "        for j in range(0,i+1):\n",
    "            data['F{}{}'.format(j,i-j)] = np.power(x1,j) * np.power(x2,i-j)\n",
    "    return pd.DataFrame(data)"
   ]
  },
  {
   "cell_type": "code",
   "execution_count": 5,
   "id": "64fce44d-9461-43d3-ab60-13e7680a8279",
   "metadata": {},
   "outputs": [],
   "source": [
    "x1 = data['x1']\n",
    "x2 = data['x2']\n",
    "data_new = make_feature(x1,x2,6)"
   ]
  },
  {
   "cell_type": "code",
   "execution_count": 6,
   "id": "78178ba9-d2d5-4cc7-8505-5648f5adf0aa",
   "metadata": {},
   "outputs": [
    {
     "data": {
      "text/html": [
       "<div>\n",
       "<style scoped>\n",
       "    .dataframe tbody tr th:only-of-type {\n",
       "        vertical-align: middle;\n",
       "    }\n",
       "\n",
       "    .dataframe tbody tr th {\n",
       "        vertical-align: top;\n",
       "    }\n",
       "\n",
       "    .dataframe thead th {\n",
       "        text-align: right;\n",
       "    }\n",
       "</style>\n",
       "<table border=\"1\" class=\"dataframe\">\n",
       "  <thead>\n",
       "    <tr style=\"text-align: right;\">\n",
       "      <th></th>\n",
       "      <th>F00</th>\n",
       "      <th>F01</th>\n",
       "      <th>F10</th>\n",
       "      <th>F02</th>\n",
       "      <th>F11</th>\n",
       "      <th>F20</th>\n",
       "      <th>F03</th>\n",
       "      <th>F12</th>\n",
       "      <th>F21</th>\n",
       "      <th>F30</th>\n",
       "      <th>...</th>\n",
       "      <th>F32</th>\n",
       "      <th>F41</th>\n",
       "      <th>F50</th>\n",
       "      <th>F06</th>\n",
       "      <th>F15</th>\n",
       "      <th>F24</th>\n",
       "      <th>F33</th>\n",
       "      <th>F42</th>\n",
       "      <th>F51</th>\n",
       "      <th>F60</th>\n",
       "    </tr>\n",
       "  </thead>\n",
       "  <tbody>\n",
       "    <tr>\n",
       "      <th>0</th>\n",
       "      <td>1.0</td>\n",
       "      <td>0.69956</td>\n",
       "      <td>0.051267</td>\n",
       "      <td>0.489384</td>\n",
       "      <td>0.035864</td>\n",
       "      <td>0.002628</td>\n",
       "      <td>0.342354</td>\n",
       "      <td>0.025089</td>\n",
       "      <td>0.001839</td>\n",
       "      <td>0.000135</td>\n",
       "      <td>...</td>\n",
       "      <td>0.000066</td>\n",
       "      <td>0.000005</td>\n",
       "      <td>3.541519e-07</td>\n",
       "      <td>0.117206</td>\n",
       "      <td>0.008589</td>\n",
       "      <td>0.000629</td>\n",
       "      <td>0.000046</td>\n",
       "      <td>0.000003</td>\n",
       "      <td>2.477505e-07</td>\n",
       "      <td>1.815630e-08</td>\n",
       "    </tr>\n",
       "    <tr>\n",
       "      <th>1</th>\n",
       "      <td>1.0</td>\n",
       "      <td>0.68494</td>\n",
       "      <td>-0.092742</td>\n",
       "      <td>0.469143</td>\n",
       "      <td>-0.063523</td>\n",
       "      <td>0.008601</td>\n",
       "      <td>0.321335</td>\n",
       "      <td>-0.043509</td>\n",
       "      <td>0.005891</td>\n",
       "      <td>-0.000798</td>\n",
       "      <td>...</td>\n",
       "      <td>-0.000374</td>\n",
       "      <td>0.000051</td>\n",
       "      <td>-6.860919e-06</td>\n",
       "      <td>0.103256</td>\n",
       "      <td>-0.013981</td>\n",
       "      <td>0.001893</td>\n",
       "      <td>-0.000256</td>\n",
       "      <td>0.000035</td>\n",
       "      <td>-4.699318e-06</td>\n",
       "      <td>6.362953e-07</td>\n",
       "    </tr>\n",
       "    <tr>\n",
       "      <th>2</th>\n",
       "      <td>1.0</td>\n",
       "      <td>0.69225</td>\n",
       "      <td>-0.213710</td>\n",
       "      <td>0.479210</td>\n",
       "      <td>-0.147941</td>\n",
       "      <td>0.045672</td>\n",
       "      <td>0.331733</td>\n",
       "      <td>-0.102412</td>\n",
       "      <td>0.031616</td>\n",
       "      <td>-0.009761</td>\n",
       "      <td>...</td>\n",
       "      <td>-0.004677</td>\n",
       "      <td>0.001444</td>\n",
       "      <td>-4.457837e-04</td>\n",
       "      <td>0.110047</td>\n",
       "      <td>-0.033973</td>\n",
       "      <td>0.010488</td>\n",
       "      <td>-0.003238</td>\n",
       "      <td>0.001000</td>\n",
       "      <td>-3.085938e-04</td>\n",
       "      <td>9.526844e-05</td>\n",
       "    </tr>\n",
       "    <tr>\n",
       "      <th>3</th>\n",
       "      <td>1.0</td>\n",
       "      <td>0.50219</td>\n",
       "      <td>-0.375000</td>\n",
       "      <td>0.252195</td>\n",
       "      <td>-0.188321</td>\n",
       "      <td>0.140625</td>\n",
       "      <td>0.126650</td>\n",
       "      <td>-0.094573</td>\n",
       "      <td>0.070620</td>\n",
       "      <td>-0.052734</td>\n",
       "      <td>...</td>\n",
       "      <td>-0.013299</td>\n",
       "      <td>0.009931</td>\n",
       "      <td>-7.415771e-03</td>\n",
       "      <td>0.016040</td>\n",
       "      <td>-0.011978</td>\n",
       "      <td>0.008944</td>\n",
       "      <td>-0.006679</td>\n",
       "      <td>0.004987</td>\n",
       "      <td>-3.724126e-03</td>\n",
       "      <td>2.780914e-03</td>\n",
       "    </tr>\n",
       "    <tr>\n",
       "      <th>4</th>\n",
       "      <td>1.0</td>\n",
       "      <td>0.46564</td>\n",
       "      <td>-0.513250</td>\n",
       "      <td>0.216821</td>\n",
       "      <td>-0.238990</td>\n",
       "      <td>0.263426</td>\n",
       "      <td>0.100960</td>\n",
       "      <td>-0.111283</td>\n",
       "      <td>0.122661</td>\n",
       "      <td>-0.135203</td>\n",
       "      <td>...</td>\n",
       "      <td>-0.029315</td>\n",
       "      <td>0.032312</td>\n",
       "      <td>-3.561597e-02</td>\n",
       "      <td>0.010193</td>\n",
       "      <td>-0.011235</td>\n",
       "      <td>0.012384</td>\n",
       "      <td>-0.013650</td>\n",
       "      <td>0.015046</td>\n",
       "      <td>-1.658422e-02</td>\n",
       "      <td>1.827990e-02</td>\n",
       "    </tr>\n",
       "  </tbody>\n",
       "</table>\n",
       "<p>5 rows × 28 columns</p>\n",
       "</div>"
      ],
      "text/plain": [
       "   F00      F01       F10       F02       F11       F20       F03       F12  \\\n",
       "0  1.0  0.69956  0.051267  0.489384  0.035864  0.002628  0.342354  0.025089   \n",
       "1  1.0  0.68494 -0.092742  0.469143 -0.063523  0.008601  0.321335 -0.043509   \n",
       "2  1.0  0.69225 -0.213710  0.479210 -0.147941  0.045672  0.331733 -0.102412   \n",
       "3  1.0  0.50219 -0.375000  0.252195 -0.188321  0.140625  0.126650 -0.094573   \n",
       "4  1.0  0.46564 -0.513250  0.216821 -0.238990  0.263426  0.100960 -0.111283   \n",
       "\n",
       "        F21       F30  ...       F32       F41           F50       F06  \\\n",
       "0  0.001839  0.000135  ...  0.000066  0.000005  3.541519e-07  0.117206   \n",
       "1  0.005891 -0.000798  ... -0.000374  0.000051 -6.860919e-06  0.103256   \n",
       "2  0.031616 -0.009761  ... -0.004677  0.001444 -4.457837e-04  0.110047   \n",
       "3  0.070620 -0.052734  ... -0.013299  0.009931 -7.415771e-03  0.016040   \n",
       "4  0.122661 -0.135203  ... -0.029315  0.032312 -3.561597e-02  0.010193   \n",
       "\n",
       "        F15       F24       F33       F42           F51           F60  \n",
       "0  0.008589  0.000629  0.000046  0.000003  2.477505e-07  1.815630e-08  \n",
       "1 -0.013981  0.001893 -0.000256  0.000035 -4.699318e-06  6.362953e-07  \n",
       "2 -0.033973  0.010488 -0.003238  0.001000 -3.085938e-04  9.526844e-05  \n",
       "3 -0.011978  0.008944 -0.006679  0.004987 -3.724126e-03  2.780914e-03  \n",
       "4 -0.011235  0.012384 -0.013650  0.015046 -1.658422e-02  1.827990e-02  \n",
       "\n",
       "[5 rows x 28 columns]"
      ]
     },
     "execution_count": 6,
     "metadata": {},
     "output_type": "execute_result"
    }
   ],
   "source": [
    "data_new.head()"
   ]
  },
  {
   "cell_type": "code",
   "execution_count": 7,
   "id": "04e0aa63-1ee0-453e-9546-0953ef4467c5",
   "metadata": {},
   "outputs": [
    {
     "data": {
      "text/plain": [
       "matrix([[0., 0., 0., 0., 0., 0., 0., 0., 0., 0., 0., 0., 0., 0., 0., 0.,\n",
       "         0., 0., 0., 0., 0., 0., 0., 0., 0., 0., 0., 0.]])"
      ]
     },
     "execution_count": 7,
     "metadata": {},
     "output_type": "execute_result"
    }
   ],
   "source": [
    "X = data_new.values\n",
    "Y = data.iloc[:,2:].values\n",
    "w = np.matrix(np.zeros(X.shape[1]))\n",
    "w = np.float64(w)\n",
    "w"
   ]
  },
  {
   "cell_type": "code",
   "execution_count": 8,
   "id": "2fe68a07-eb05-48fc-b686-6d1c9c6aa285",
   "metadata": {},
   "outputs": [],
   "source": [
    "def sigmoid(X):\n",
    "    return 1 / (np.exp(-X) + 1)"
   ]
  },
  {
   "cell_type": "code",
   "execution_count": 9,
   "id": "7568ad71-003d-4b73-8a3e-ad3880341290",
   "metadata": {},
   "outputs": [],
   "source": [
    "def cost(X,Y,w,lamda):\n",
    "    first = -Y * np.log(sigmoid(X@w.T-Y))\n",
    "    second = -(1-Y) * np.log(1-sigmoid(X@w.T-Y))\n",
    "    reg = np.sum(np.power(w[0,1:]),2) * lamda / (2 * len(X))\n",
    "    return (first +second)/len(X) + reg"
   ]
  },
  {
   "cell_type": "code",
   "execution_count": 10,
   "id": "24a98e80-7fe0-45ba-8ef0-59f0608927a8",
   "metadata": {},
   "outputs": [
    {
     "name": "stdout",
     "output_type": "stream",
     "text": [
      "<class 'numpy.matrix'>\n"
     ]
    }
   ],
   "source": [
    "error = sigmoid(X@w.T)\n",
    "print(type(error))"
   ]
  },
  {
   "cell_type": "code",
   "execution_count": 11,
   "id": "b929f543-4032-4a46-a7d7-38699096b0de",
   "metadata": {},
   "outputs": [],
   "source": [
    "def gradient_descent(X,Y,w,lr,iter,lamda):\n",
    "    for i in range(iter):\n",
    "        \n",
    "        reg = lr * lamda * w[0,1:] /len(X)\n",
    "        \n",
    "        reg = np.insert(reg,0,0,axis=1)\n",
    "        \n",
    "        error = sigmoid(X@w.T) - Y\n",
    "        \n",
    "        tem = X.T@error\n",
    "        \n",
    "        w = w - tem.T * lr / len(X) - reg\n",
    "        \n",
    "        \n",
    "    return w"
   ]
  },
  {
   "cell_type": "code",
   "execution_count": 12,
   "id": "6ede955b-1677-4ab8-bbf1-45b49f6523a4",
   "metadata": {},
   "outputs": [],
   "source": [
    "w = gradient_descent(X,Y,w,0.001,200000,0.001)\n"
   ]
  },
  {
   "cell_type": "code",
   "execution_count": 13,
   "id": "a225f243-6ef9-429a-9b99-e1b2332a762c",
   "metadata": {},
   "outputs": [
    {
     "data": {
      "text/plain": [
       "F00    1.000000e+00\n",
       "F01   -7.697400e-01\n",
       "F10   -8.300700e-01\n",
       "F02    2.618369e-05\n",
       "F11   -4.840964e-01\n",
       "F20    4.014996e-05\n",
       "F03   -4.560707e-01\n",
       "F12   -4.837430e-01\n",
       "F21   -3.581209e-01\n",
       "F30   -5.719317e-01\n",
       "F04    6.855856e-10\n",
       "F13   -4.833898e-01\n",
       "F22    6.419177e-06\n",
       "F31   -2.968536e-01\n",
       "F40    1.612020e-09\n",
       "F05   -2.702217e-01\n",
       "F14   -4.830370e-01\n",
       "F23   -1.426605e-01\n",
       "F32   -1.592528e-01\n",
       "F41   -2.460679e-01\n",
       "F50   -3.940702e-01\n",
       "F06    1.795116e-14\n",
       "F15   -4.826843e-01\n",
       "F24    2.418097e-10\n",
       "F33   -1.134476e-01\n",
       "F42    2.577297e-10\n",
       "F51   -2.039706e-01\n",
       "F60    6.472253e-14\n",
       "dtype: float64"
      ]
     },
     "execution_count": 13,
     "metadata": {},
     "output_type": "execute_result"
    }
   ],
   "source": [
    "data_new.min()"
   ]
  },
  {
   "cell_type": "code",
   "execution_count": null,
   "id": "864ddd8c-b645-491d-9377-b4f07ec5709e",
   "metadata": {},
   "outputs": [],
   "source": []
  }
 ],
 "metadata": {
  "kernelspec": {
   "display_name": "Python 3 (ipykernel)",
   "language": "python",
   "name": "python3"
  },
  "language_info": {
   "codemirror_mode": {
    "name": "ipython",
    "version": 3
   },
   "file_extension": ".py",
   "mimetype": "text/x-python",
   "name": "python",
   "nbconvert_exporter": "python",
   "pygments_lexer": "ipython3",
   "version": "3.10.7"
  }
 },
 "nbformat": 4,
 "nbformat_minor": 5
}
