{
 "cells": [
  {
   "cell_type": "code",
   "execution_count": 1,
   "id": "3b28be9d-0ef0-4747-974a-2f732f1bb99d",
   "metadata": {},
   "outputs": [],
   "source": [
    "import numpy as np\n",
    "import matplotlib.pyplot as plt\n",
    "import scipy.io as ios\n",
    "import pandas as pd"
   ]
  },
  {
   "cell_type": "code",
   "execution_count": 2,
   "id": "814f3cd6-a3dd-44c5-99ac-689e14f80da5",
   "metadata": {},
   "outputs": [
    {
     "name": "stdout",
     "output_type": "stream",
     "text": [
      "dict_keys(['__header__', '__version__', '__globals__', 'Y', 'R']) dict_keys(['__header__', '__version__', '__globals__', 'X', 'Theta', 'num_users', 'num_movies', 'num_features'])\n",
      "Y.shape is (1682, 943)\n",
      "R.shape is (1682, 943)\n",
      "X.shape is (1682, 10)\n",
      "theta.shape is (943, 10)\n",
      "num_movies [[1682]]\n",
      "num_users [[943]]\n",
      "num_features [[10]]\n"
     ]
    }
   ],
   "source": [
    "path_1 = 'ex8_movies.mat'\n",
    "path_2 = 'ex8_movieParams.mat'\n",
    "movies = ios.loadmat(path_1)\n",
    "moviesParams = ios.loadmat(path_2)\n",
    "print(movies.keys(),moviesParams.keys())\n",
    "Y = movies['Y']\n",
    "R = movies['R']\n",
    "X = moviesParams['X']\n",
    "Theta = moviesParams['Theta']\n",
    "num_users = moviesParams['num_users']\n",
    "num_features = moviesParams['num_features']\n",
    "num_movies = moviesParams['num_movies']\n",
    "print(\"Y.shape is\",Y.shape)\n",
    "print(\"R.shape is\",R.shape)\n",
    "print(\"X.shape is\",X.shape)\n",
    "print(\"theta.shape is\",Theta.shape)\n",
    "print(\"num_movies\",num_movies)\n",
    "print(\"num_users\",num_users)\n",
    "print(\"num_features\",num_features)"
   ]
  },
  {
   "cell_type": "code",
   "execution_count": 3,
   "id": "fe547d87-164d-4588-bdf8-312fbf6143c6",
   "metadata": {},
   "outputs": [],
   "source": [
    "movie_list = []\n",
    "with open('movie_ids.txt',encoding='ANSI') as file:\n",
    "    for line in file:\n",
    "        sentence = line.strip().split(' ')\n",
    "        movie_list.append(' '.join(sentence[1:]))"
   ]
  },
  {
   "cell_type": "code",
   "execution_count": 4,
   "id": "a4038e1e-f5d3-4046-9832-421811a6a107",
   "metadata": {},
   "outputs": [],
   "source": [
    "def serialize(X,theta):\n",
    "    return np.concatenate((X.ravel(),theta.ravel()))\n",
    "def deserialize(param,n_users,n_movies,n_feature):\n",
    "    return param[:n_movies*n_feature].reshape(n_movies,n_feature),param[n_movies*n_feature:].reshape(n_users,n_feature)"
   ]
  },
  {
   "cell_type": "code",
   "execution_count": 5,
   "id": "dd7a7c3f-875f-4323-96eb-dde239876304",
   "metadata": {},
   "outputs": [],
   "source": [
    "def cost_fun(param,Y,R,n_feature):\n",
    "    n_movies,n_users = Y.shape\n",
    "    X,theta = deserialize(param,n_users,n_movies,n_feature)\n",
    "    # print(X.shape)\n",
    "    # print(theta.shape)\n",
    "    return 1/2*np.sum(np.power((X@(theta.T)-Y)*R,2))"
   ]
  },
  {
   "cell_type": "code",
   "execution_count": 6,
   "id": "b9daa1f2-e529-420e-9ab5-f00c1f456d73",
   "metadata": {},
   "outputs": [],
   "source": [
    "def regularized_cost(param,Y,R,n_feature,lamda=1):\n",
    "    reg = np.sum(param**2)*lamda/2\n",
    "    return cost_fun(param,Y,R,n_feature) + reg"
   ]
  },
  {
   "cell_type": "code",
   "execution_count": 7,
   "id": "cd0d288b-bd9d-4dd0-bc23-ce9a12229787",
   "metadata": {},
   "outputs": [],
   "source": [
    "def gradient(param,Y,R,n_feature):\n",
    "    n_movies,n_users = Y.shape\n",
    "    X,theta = deserialize(param,n_users,n_movies,n_feature)\n",
    "    grad_x = ((X@theta.T-Y)*R)@theta\n",
    "    grad_theta = ((X@theta.T-Y)*R).T@X\n",
    "    return serialize(grad_x,grad_theta)"
   ]
  },
  {
   "cell_type": "code",
   "execution_count": 8,
   "id": "940687ff-3066-4962-a799-c61cf369c8c1",
   "metadata": {},
   "outputs": [],
   "source": [
    "def regularized_gradient(param,Y,R,n_feature,lamda=1):\n",
    "    gra = gradient(param,Y,R,n_feature)\n",
    "    return gra + lamda * param"
   ]
  },
  {
   "cell_type": "code",
   "execution_count": 9,
   "id": "d678bf6c-f987-4490-acdf-5577451b441f",
   "metadata": {},
   "outputs": [],
   "source": [
    "ratings = np.zeros(1682)\n",
    "ratings[0] = 4\n",
    "ratings[6] = 3\n",
    "ratings[11] = 5\n",
    "ratings[53] = 4\n",
    "ratings[63] = 5\n",
    "ratings[65] = 3\n",
    "ratings[68] = 5\n",
    "ratings[97] = 2\n",
    "ratings[182] = 4\n",
    "ratings[225] = 5\n",
    "ratings[354] = 5"
   ]
  },
  {
   "cell_type": "code",
   "execution_count": 10,
   "id": "f71ca95c-1a19-48bf-a25c-59cb202fdf12",
   "metadata": {},
   "outputs": [
    {
     "name": "stdout",
     "output_type": "stream",
     "text": [
      "Y.shape is (1682, 944)\n",
      "R.shape is (1682, 944)\n"
     ]
    }
   ],
   "source": [
    "Y = np.insert(Y,0,ratings,axis=1)\n",
    "R = np.insert(R,0,ratings!=0,axis=1)\n",
    "print(\"Y.shape is\",Y.shape)\n",
    "print(\"R.shape is\",R.shape)"
   ]
  },
  {
   "cell_type": "code",
   "execution_count": 11,
   "id": "f9cbabc5-c93f-41e6-ade0-e76116d286e8",
   "metadata": {},
   "outputs": [],
   "source": [
    "X_train = np.random.standard_normal((num_movies[0,0],num_features[0,0]))\n",
    "theta_train = np.random.standard_normal((num_users[0,0]+1,num_features[0,0]))\n",
    "lamda=10\n"
   ]
  },
  {
   "cell_type": "code",
   "execution_count": 12,
   "id": "690db531-08b4-4d6b-a238-02602a0e4a2f",
   "metadata": {},
   "outputs": [],
   "source": [
    "param = serialize(X_train,theta_train)\n",
    "Y_norm = Y - Y.mean()"
   ]
  },
  {
   "cell_type": "code",
   "execution_count": 13,
   "id": "6e9fa746-07a8-46c7-bfa1-8ec2c5b97052",
   "metadata": {},
   "outputs": [],
   "source": [
    "import scipy.optimize as opt"
   ]
  },
  {
   "cell_type": "code",
   "execution_count": 14,
   "id": "9bb15cb7-110f-4dc3-9cef-7229aaa80b20",
   "metadata": {},
   "outputs": [
    {
     "data": {
      "text/plain": [
       " message: Converged (|f_n-f_(n-1)| ~= 0)\n",
       " success: True\n",
       "  status: 1\n",
       "     fun: 71900.03071974813\n",
       "       x: [ 4.410e-01  4.798e-01 ... -6.730e-01  4.327e-01]\n",
       "     nit: 45\n",
       "     jac: [ 1.737e-06  2.330e-06 ... -8.947e-07  1.065e-06]\n",
       "    nfev: 1142"
      ]
     },
     "execution_count": 14,
     "metadata": {},
     "output_type": "execute_result"
    }
   ],
   "source": [
    "result = opt.minimize(fun=regularized_cost,x0=param,args=(Y,R,num_features[0,0],lamda),method='TNC',jac=regularized_gradient)\n",
    "result"
   ]
  },
  {
   "cell_type": "code",
   "execution_count": 15,
   "id": "4d2dc35e-ed94-4f44-a6ef-fa8659e265e7",
   "metadata": {},
   "outputs": [],
   "source": [
    "out_param = result.x\n",
    "X_out,theta_out = deserialize(out_param,num_users[0,0]+1,num_movies[0,0],num_features[0,0])\n",
    "prediction = X_out @ theta_out.T\n",
    "userpre_me = prediction[:,0]+Y.mean()\n",
    "top_index = np.argsort(userpre_me)[::-1]\n"
   ]
  },
  {
   "cell_type": "code",
   "execution_count": 16,
   "id": "e82ffa62-4818-4154-b974-fe23796b8c67",
   "metadata": {},
   "outputs": [
    {
     "name": "stdout",
     "output_type": "stream",
     "text": [
      "[4.42423566 4.41634854 4.20856053 4.16140482 4.13552866 4.13216082\n",
      " 4.12794958 4.12771555 4.01144238 4.00434947]\n"
     ]
    }
   ],
   "source": [
    "movies_score = userpre_me[top_index][:10]\n",
    "print(movies_score)"
   ]
  },
  {
   "cell_type": "code",
   "execution_count": 17,
   "id": "e35d916f-cf94-4dcb-948b-c3014d9754bf",
   "metadata": {},
   "outputs": [
    {
     "name": "stdout",
     "output_type": "stream",
     "text": [
      "The movies is Titanic (1997)\n",
      "The movies is Star Wars (1977)\n",
      "The movies is Raiders of the Lost Ark (1981)\n",
      "The movies is Return of the Jedi (1983)\n",
      "The movies is Shawshank Redemption, The (1994)\n",
      "The movies is Good Will Hunting (1997)\n",
      "The movies is Braveheart (1995)\n",
      "The movies is Empire Strikes Back, The (1980)\n",
      "The movies is Schindler's List (1993)\n",
      "The movies is Godfather, The (1972)\n"
     ]
    }
   ],
   "source": [
    "movies_list = np.array(movie_list)\n",
    "for i in top_index[:10]:\n",
    "    print(\"The movies is {}\".format(movies_list[i]))"
   ]
  },
  {
   "cell_type": "code",
   "execution_count": null,
   "id": "fef18483-016f-4164-8273-96d8ea32aeb8",
   "metadata": {},
   "outputs": [],
   "source": []
  }
 ],
 "metadata": {
  "kernelspec": {
   "display_name": "Python 3 (ipykernel)",
   "language": "python",
   "name": "python3"
  },
  "language_info": {
   "codemirror_mode": {
    "name": "ipython",
    "version": 3
   },
   "file_extension": ".py",
   "mimetype": "text/x-python",
   "name": "python",
   "nbconvert_exporter": "python",
   "pygments_lexer": "ipython3",
   "version": "3.10.7"
  }
 },
 "nbformat": 4,
 "nbformat_minor": 5
}
