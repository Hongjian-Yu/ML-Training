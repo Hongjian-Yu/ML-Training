{
 "cells": [
  {
   "cell_type": "code",
   "execution_count": 11,
   "id": "6734bea0-a3dc-4844-8e69-b67bef1f35ce",
   "metadata": {},
   "outputs": [],
   "source": [
    "from scipy.optimize import minimize\n",
    "from scipy.io import loadmat\n",
    "import numpy as np\n",
    "import pandas\n",
    "from sklearn.metrics import classification_report"
   ]
  },
  {
   "cell_type": "code",
   "execution_count": 2,
   "id": "3daf3029-8d68-4798-9ec4-cb847c934bd0",
   "metadata": {},
   "outputs": [
    {
     "name": "stdout",
     "output_type": "stream",
     "text": [
      "[[0. 0. 0. ... 0. 0. 0.]\n",
      " [0. 0. 0. ... 0. 0. 0.]\n",
      " [0. 0. 0. ... 0. 0. 0.]\n",
      " ...\n",
      " [0. 0. 0. ... 0. 0. 0.]\n",
      " [0. 0. 0. ... 0. 0. 0.]\n",
      " [0. 0. 0. ... 0. 0. 0.]]\n"
     ]
    }
   ],
   "source": [
    "path = 'ex3data1.mat'\n",
    "data = loadmat(path)\n",
    "X = np.array(data['X'])\n",
    "Y = np.array(data['y'])\n",
    "Y = Y.reshape(-1)\n",
    "print(X)"
   ]
  },
  {
   "cell_type": "code",
   "execution_count": 3,
   "id": "4aebb1f7-abb9-417f-8856-167109422250",
   "metadata": {},
   "outputs": [],
   "source": [
    "X = np.insert(X,0,np.ones(X.shape[0]),axis=1)\n",
    "w = np.zeros(X.shape[1])\n",
    "w = np.array(w)"
   ]
  },
  {
   "cell_type": "code",
   "execution_count": 4,
   "id": "3e8118cc-bef5-470d-887b-fea9c6ffdc9d",
   "metadata": {},
   "outputs": [],
   "source": [
    "def sigmoid(x):\n",
    "    return 1 / (1 + np.exp(-x))"
   ]
  },
  {
   "cell_type": "code",
   "execution_count": 5,
   "id": "a086a930-2f31-486c-9500-c42136a0d4ca",
   "metadata": {},
   "outputs": [],
   "source": [
    "def cost(w,X,Y):\n",
    "    first = np.multiply(Y,np.log(sigmoid(X.dot(w.T))))\n",
    "    second = np.multiply((1 - Y),np.log(1 - sigmoid(X.dot(w.T))))\n",
    "    return -np.mean(first+second)"
   ]
  },
  {
   "cell_type": "code",
   "execution_count": 6,
   "id": "5bc6728f-c0c0-419d-848b-52cd370cd7b0",
   "metadata": {},
   "outputs": [],
   "source": [
    "def regularized_cost(w,X,Y,L):\n",
    "    reg = L / len(X) / 2 * (w[1:]**2).sum()\n",
    "    return cost(w,X,Y) + reg"
   ]
  },
  {
   "cell_type": "code",
   "execution_count": 7,
   "id": "b8d39baf-4c56-42a3-bdff-0e2a4f5f01fb",
   "metadata": {},
   "outputs": [],
   "source": [
    "def gradient(w,X,Y,L):\n",
    "    return X.T @ (sigmoid(X.dot(w.T))-Y) / len(X) + w * L / len(X)"
   ]
  },
  {
   "cell_type": "code",
   "execution_count": 8,
   "id": "13b35b6b-0c55-45d0-a658-90bdb775cebe",
   "metadata": {},
   "outputs": [
    {
     "name": "stdout",
     "output_type": "stream",
     "text": [
      "[0.027087680896319043, 0.06858836460413528, 0.07203253150130491, 0.0521139990812578, 0.07685853803109918, 0.03497460508874542, 0.04678922341384134, 0.09354517749954862, 0.08957542598597959, 0.020791608767993793]\n"
     ]
    }
   ],
   "source": [
    "w_all = list()\n",
    "w_else = list()\n",
    "for i in range(1,11):\n",
    "    y = Y.copy()\n",
    "    x = X.copy()\n",
    "    for j in range(len(y)):\n",
    "        if y[j] == i:\n",
    "            y[j] = 1\n",
    "        else:\n",
    "            y[j] = 0\n",
    "    result = minimize(fun=regularized_cost,x0=np.array(w),args=(x,np.array(y),1),method='TNC',jac=gradient,options={'disp':True})\n",
    "    w_all.append(result.x.tolist())\n",
    "    w_else.append(result.fun)\n",
    "print(w_else)"
   ]
  },
  {
   "cell_type": "code",
   "execution_count": 9,
   "id": "753e638d-151c-4f50-9439-4d9e4d5d3d60",
   "metadata": {},
   "outputs": [
    {
     "name": "stdout",
     "output_type": "stream",
     "text": [
      "[10 10 10 ...  9  9  7]\n"
     ]
    }
   ],
   "source": [
    "w_all = np.array(w_all)\n",
    "t = sigmoid(X.dot(w_all.T))\n",
    "out = np.argmax(t,axis=1) + 1\n",
    "print(out)"
   ]
  },
  {
   "cell_type": "code",
   "execution_count": 10,
   "id": "75ecf6fa-64eb-4071-a00a-a313931427f4",
   "metadata": {},
   "outputs": [
    {
     "name": "stdout",
     "output_type": "stream",
     "text": [
      "0.944\n"
     ]
    }
   ],
   "source": [
    "cnt=0\n",
    "for i in range(len(out)):\n",
    "    if out[i]==Y[i]:\n",
    "        cnt+=1\n",
    "print(cnt/len(Y))"
   ]
  },
  {
   "cell_type": "code",
   "execution_count": 12,
   "id": "dc4df234-3779-4985-aca6-c52f98efe7cc",
   "metadata": {},
   "outputs": [
    {
     "name": "stdout",
     "output_type": "stream",
     "text": [
      "              precision    recall  f1-score   support\n",
      "\n",
      "           1       0.96      0.98      0.97       500\n",
      "           2       0.94      0.92      0.93       500\n",
      "           3       0.94      0.91      0.92       500\n",
      "           4       0.95      0.96      0.95       500\n",
      "           5       0.92      0.91      0.92       500\n",
      "           6       0.97      0.98      0.97       500\n",
      "           7       0.95      0.95      0.95       500\n",
      "           8       0.92      0.93      0.92       500\n",
      "           9       0.92      0.92      0.92       500\n",
      "          10       0.97      0.99      0.98       500\n",
      "\n",
      "    accuracy                           0.94      5000\n",
      "   macro avg       0.94      0.94      0.94      5000\n",
      "weighted avg       0.94      0.94      0.94      5000\n",
      "\n"
     ]
    }
   ],
   "source": [
    "print(classification_report(Y,out))"
   ]
  },
  {
   "cell_type": "code",
   "execution_count": null,
   "id": "d80e3323-4047-4523-a21b-d9f52ab33e24",
   "metadata": {},
   "outputs": [],
   "source": []
  }
 ],
 "metadata": {
  "kernelspec": {
   "display_name": "Python 3 (ipykernel)",
   "language": "python",
   "name": "python3"
  },
  "language_info": {
   "codemirror_mode": {
    "name": "ipython",
    "version": 3
   },
   "file_extension": ".py",
   "mimetype": "text/x-python",
   "name": "python",
   "nbconvert_exporter": "python",
   "pygments_lexer": "ipython3",
   "version": "3.10.7"
  }
 },
 "nbformat": 4,
 "nbformat_minor": 5
}
