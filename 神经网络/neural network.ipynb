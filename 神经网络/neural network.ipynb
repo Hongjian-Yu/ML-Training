{
 "cells": [
  {
   "cell_type": "code",
   "execution_count": 12,
   "id": "7acbd503-a4af-4334-9315-a2fedbda0660",
   "metadata": {},
   "outputs": [],
   "source": [
    "import numpy as np\n",
    "import matplotlib.pyplot as plt\n",
    "from scipy.io import loadmat\n",
    "from sklearn.metrics import classification_report"
   ]
  },
  {
   "cell_type": "code",
   "execution_count": 2,
   "id": "563eae5b-2021-407e-b7e9-7ac0152ab3b9",
   "metadata": {},
   "outputs": [
    {
     "name": "stdout",
     "output_type": "stream",
     "text": [
      "(25, 401)\n",
      "(10, 26)\n"
     ]
    }
   ],
   "source": [
    "path = 'ex3weights.mat'\n",
    "theta = loadmat(path)\n",
    "theta_1 = theta['Theta1']\n",
    "theta_2 = theta['Theta2']\n",
    "print(np.array(theta_1).shape)\n",
    "print(np.array(theta_2).shape)"
   ]
  },
  {
   "cell_type": "code",
   "execution_count": 3,
   "id": "40caaaa0-6d24-40d4-a507-9b54aa13cc80",
   "metadata": {},
   "outputs": [],
   "source": [
    "path2 = 'ex3data1.mat'\n",
    "data = loadmat(path2)\n",
    "X = data['X']\n",
    "Y = data['y']\n",
    "X = np.insert(X,0,np.ones(X.shape[0]),axis=1)"
   ]
  },
  {
   "cell_type": "code",
   "execution_count": 4,
   "id": "1b6d01ca-0fae-444d-9212-b3362bf2a1de",
   "metadata": {},
   "outputs": [],
   "source": [
    "def sigmoid(x):\n",
    "    return 1 / (1 + np.exp(-x))\n",
    "    "
   ]
  },
  {
   "cell_type": "code",
   "execution_count": 5,
   "id": "3704fa5b-b7c9-471b-b807-c33e9b9e3aa9",
   "metadata": {},
   "outputs": [],
   "source": [
    "a1 = X"
   ]
  },
  {
   "cell_type": "code",
   "execution_count": 6,
   "id": "f67e2608-4157-40c9-8464-f51b6f3063d0",
   "metadata": {},
   "outputs": [
    {
     "data": {
      "text/plain": [
       "(5000, 26)"
      ]
     },
     "execution_count": 6,
     "metadata": {},
     "output_type": "execute_result"
    }
   ],
   "source": [
    "z2 = a1 @ theta_1.T\n",
    "z2 = np.insert(z2,0,np.ones(z2.shape[0]),axis=1)\n",
    "z2.shape"
   ]
  },
  {
   "cell_type": "code",
   "execution_count": 7,
   "id": "66ffb798-2032-434e-99aa-b8d6f9c11f9c",
   "metadata": {},
   "outputs": [
    {
     "data": {
      "text/plain": [
       "(5000, 26)"
      ]
     },
     "execution_count": 7,
     "metadata": {},
     "output_type": "execute_result"
    }
   ],
   "source": [
    "a2 = sigmoid(z2)\n",
    "a2.shape"
   ]
  },
  {
   "cell_type": "code",
   "execution_count": 8,
   "id": "2c87bef7-5524-42bf-ac4e-4901a1563ce8",
   "metadata": {},
   "outputs": [
    {
     "data": {
      "text/plain": [
       "(5000, 10)"
      ]
     },
     "execution_count": 8,
     "metadata": {},
     "output_type": "execute_result"
    }
   ],
   "source": [
    "z3 = a2 @ theta_2.T\n",
    "z3.shape"
   ]
  },
  {
   "cell_type": "code",
   "execution_count": 9,
   "id": "6559df98-3995-447f-9fea-7f44fbbf5a75",
   "metadata": {},
   "outputs": [],
   "source": [
    "a3 = sigmoid(z3)"
   ]
  },
  {
   "cell_type": "code",
   "execution_count": 10,
   "id": "76a5cf72-39a8-4f9a-8950-0a8b4b897a44",
   "metadata": {},
   "outputs": [],
   "source": [
    "y_pred = np.argmax(a3,axis=1) + 1"
   ]
  },
  {
   "cell_type": "code",
   "execution_count": 11,
   "id": "bda3098c-e17d-4d2a-909a-9a04b322d099",
   "metadata": {},
   "outputs": [
    {
     "data": {
      "text/plain": [
       "array([10, 10, 10, ...,  9,  9,  9], dtype=int64)"
      ]
     },
     "execution_count": 11,
     "metadata": {},
     "output_type": "execute_result"
    }
   ],
   "source": [
    "y_pred"
   ]
  },
  {
   "cell_type": "code",
   "execution_count": 13,
   "id": "137bc091-09a8-455e-89a7-f2d5af1d02e6",
   "metadata": {},
   "outputs": [
    {
     "name": "stdout",
     "output_type": "stream",
     "text": [
      "              precision    recall  f1-score   support\n",
      "\n",
      "           1       0.97      0.98      0.97       500\n",
      "           2       0.98      0.97      0.97       500\n",
      "           3       0.98      0.96      0.97       500\n",
      "           4       0.97      0.97      0.97       500\n",
      "           5       0.98      0.98      0.98       500\n",
      "           6       0.97      0.99      0.98       500\n",
      "           7       0.98      0.97      0.97       500\n",
      "           8       0.98      0.98      0.98       500\n",
      "           9       0.97      0.96      0.96       500\n",
      "          10       0.98      0.99      0.99       500\n",
      "\n",
      "    accuracy                           0.98      5000\n",
      "   macro avg       0.98      0.98      0.98      5000\n",
      "weighted avg       0.98      0.98      0.98      5000\n",
      "\n"
     ]
    }
   ],
   "source": [
    "print(classification_report(Y,y_pred))"
   ]
  },
  {
   "cell_type": "code",
   "execution_count": null,
   "id": "ec424bf1-80c1-444f-b15f-1642cb9ece7c",
   "metadata": {},
   "outputs": [],
   "source": []
  }
 ],
 "metadata": {
  "kernelspec": {
   "display_name": "Python 3 (ipykernel)",
   "language": "python",
   "name": "python3"
  },
  "language_info": {
   "codemirror_mode": {
    "name": "ipython",
    "version": 3
   },
   "file_extension": ".py",
   "mimetype": "text/x-python",
   "name": "python",
   "nbconvert_exporter": "python",
   "pygments_lexer": "ipython3",
   "version": "3.10.7"
  }
 },
 "nbformat": 4,
 "nbformat_minor": 5
}
