{
 "cells": [
  {
   "cell_type": "code",
   "execution_count": 1,
   "id": "10d17a2f-bce6-4c7f-9f3f-c1882caa3d84",
   "metadata": {},
   "outputs": [],
   "source": [
    "import numpy as np\n",
    "import matplotlib.pyplot as plt\n",
    "import scipy.io as ios\n",
    "from scipy import stats\n",
    "from sklearn.metrics import f1_score"
   ]
  },
  {
   "cell_type": "code",
   "execution_count": 2,
   "id": "411eb6a4-a2c5-4398-93d8-82ea57bfeb3b",
   "metadata": {},
   "outputs": [
    {
     "data": {
      "text/plain": [
       "(1000, 11)"
      ]
     },
     "execution_count": 2,
     "metadata": {},
     "output_type": "execute_result"
    }
   ],
   "source": [
    "path = 'ex8data2.mat'\n",
    "data = ios.loadmat(path)\n",
    "X = data['X']\n",
    "X_val = data['Xval']\n",
    "Y_val = data['yval']\n",
    "X.shape"
   ]
  },
  {
   "cell_type": "code",
   "execution_count": 3,
   "id": "0b0fbee0-dda8-4313-879d-583acf21f9ec",
   "metadata": {},
   "outputs": [
    {
     "data": {
      "text/plain": [
       "array([60.97489373, 53.20572186, 58.51546272, 84.20403725, 65.26859177,\n",
       "       89.57487757, 55.63349911, 87.16233783, 29.62926829, 70.7852052 ,\n",
       "       50.50356719])"
      ]
     },
     "execution_count": 3,
     "metadata": {},
     "output_type": "execute_result"
    }
   ],
   "source": [
    "mu = X.mean(axis=0)\n",
    "sigma2 = np.mean(np.power((X-mu),2),axis=0)\n",
    "sigma2"
   ]
  },
  {
   "cell_type": "code",
   "execution_count": 4,
   "id": "06ac14a8-17e9-4ab8-9fc2-db7ffd4f535a",
   "metadata": {},
   "outputs": [],
   "source": [
    "multi_normal = stats.multivariate_normal(mu,sigma2)\n",
    "pval = multi_normal.pdf(X_val)"
   ]
  },
  {
   "cell_type": "code",
   "execution_count": 5,
   "id": "17fdfefb-f16f-4734-a207-3c2b6b50af07",
   "metadata": {},
   "outputs": [],
   "source": [
    "def select_epsilon(pval,yval):\n",
    "    epsilon = np.linspace(pval.min(),pval.max(),10000)\n",
    "    f1 = []\n",
    "    for e in epsilon:\n",
    "        y_p = (pval < e).astype('int')\n",
    "        f1.append(f1_score(y_p,yval))\n",
    "\n",
    "    f1_best = np.argmax(f1)\n",
    "    return epsilon[f1_best],f1[f1_best]"
   ]
  },
  {
   "cell_type": "code",
   "execution_count": 6,
   "id": "997fe3e8-7b66-45d8-a2f1-cd6e170ac2d0",
   "metadata": {},
   "outputs": [
    {
     "data": {
      "text/plain": [
       "(1.3773671632195656e-19, 0.7368421052631577)"
      ]
     },
     "execution_count": 6,
     "metadata": {},
     "output_type": "execute_result"
    }
   ],
   "source": [
    "ep,f1 = select_epsilon(pval,Y_val)\n",
    "ep,f1"
   ]
  },
  {
   "cell_type": "code",
   "execution_count": null,
   "id": "6a4c816b-d595-4f8a-9858-fe8b6ed8ce02",
   "metadata": {},
   "outputs": [],
   "source": []
  }
 ],
 "metadata": {
  "kernelspec": {
   "display_name": "Python 3 (ipykernel)",
   "language": "python",
   "name": "python3"
  },
  "language_info": {
   "codemirror_mode": {
    "name": "ipython",
    "version": 3
   },
   "file_extension": ".py",
   "mimetype": "text/x-python",
   "name": "python",
   "nbconvert_exporter": "python",
   "pygments_lexer": "ipython3",
   "version": "3.10.7"
  }
 },
 "nbformat": 4,
 "nbformat_minor": 5
}
