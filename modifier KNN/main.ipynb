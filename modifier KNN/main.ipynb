{
 "cells": [
  {
   "cell_type": "code",
   "execution_count": 1,
   "id": "3d70889c-2868-4774-9da9-a6d474ca95f0",
   "metadata": {},
   "outputs": [],
   "source": [
    "import numpy as np\n",
    "from sklearn.neighbors import KNeighborsClassifier\n",
    "import pandas as pd\n",
    "import matplotlib.pyplot as plt\n",
    "from matplotlib.patches import  Circle\n",
    "from sklearn.datasets import load_iris\n",
    "from sklearn.model_selection import train_test_split\n",
    "from sklearn.metrics import accuracy_score"
   ]
  },
  {
   "cell_type": "code",
   "execution_count": 2,
   "id": "6048e352-b554-49b1-aef3-109e4b0f487b",
   "metadata": {},
   "outputs": [],
   "source": [
    "def calculate_center(samples):\n",
    "    \"\"\"计算样本的中心\"\"\"\n",
    "    return np.mean(samples, axis=0)"
   ]
  },
  {
   "cell_type": "code",
   "execution_count": 3,
   "id": "0c638741-3d44-4b34-9401-6a70986b0966",
   "metadata": {},
   "outputs": [],
   "source": [
    "def euclidean_distance(point1, point2):\n",
    "    \"\"\"计算两点之间的欧几里得距离\"\"\"\n",
    "    return np.sqrt(np.sum((point1 - point2) ** 2))"
   ]
  },
  {
   "cell_type": "code",
   "execution_count": 4,
   "id": "512bdb87-b0e7-49f3-b008-aab3e47cb10a",
   "metadata": {},
   "outputs": [],
   "source": [
    "def find_samples_in_circle(test_sample, radius, all_samples):\n",
    "    \"\"\"筛选圆内的样本\"\"\"\n",
    "    in_circle_samples = []\n",
    "    for sample in all_samples:\n",
    "        \n",
    "        if euclidean_distance(test_sample, sample) <= radius:\n",
    "            \n",
    "            in_circle_samples.append(sample)\n",
    "    return in_circle_samples"
   ]
  },
  {
   "cell_type": "code",
   "execution_count": 5,
   "id": "4709d8c9-9487-4853-a7bd-7b18bc0c97c9",
   "metadata": {},
   "outputs": [],
   "source": [
    "class Modifier_KNN():\n",
    "    def __init__(self,train_set):\n",
    "        self.train_set = train_set\n",
    "\n",
    "    def predict(self,test_data,n_neighbor):\n",
    "        train_data = self.train_set.iloc[:,:-1].values\n",
    "        train_label = self.train_set.iloc[:,-1].values\n",
    "\n",
    "        #计算类别中心点\n",
    "        unique = np.unique(train_label)\n",
    "        sample_each_class = []\n",
    "\n",
    "        #找出每个类别对应得样本|\n",
    "        for i in unique:\n",
    "            sample_each_class.append(np.where(train_label==i))\n",
    "        \n",
    "        #求得类别中心点\n",
    "        center_point =  []\n",
    "        for i in sample_each_class:\n",
    "            center_point.append(calculate_center(train_data[i]))\n",
    "      \n",
    "        weight1 = []\n",
    "        for i in range(len(train_data)):\n",
    "            sample_label = train_label[i]\n",
    "            weight1.append(1*1.0 / euclidean_distance(train_data[i],center_point[sample_label]))\n",
    "            \n",
    "        weight1 = np.array(weight1)\n",
    "\n",
    "        final_label=[]\n",
    "        #拿最近得\n",
    "         \n",
    "        for each in test_data:\n",
    "               \n",
    "            # sample_in_circle = []\n",
    "            \n",
    "            each_dis = [euclidean_distance(each,i) for i in center_point]\n",
    "            \n",
    "            min_center = center_point[np.argmin(each_dis)]\n",
    "            \n",
    "            sample_in_circle = find_samples_in_circle(each,euclidean_distance(min_center,each),train_data)\n",
    "            # print(sample_in_circle)\n",
    "            if not sample_in_circle :\n",
    "                final_label.append(np.argmin(each_dis))\n",
    "                continue\n",
    "            dis = [euclidean_distance(j,each) for j in sample_in_circle]\n",
    "            \n",
    "            index = [np.where((j == train_data).all(axis=1))[0] for j in sample_in_circle]\n",
    "            label = train_label[index].flatten()\n",
    "            \n",
    "            weight = weight1[index].flatten()\n",
    "            \n",
    "            weight = weight / dis\n",
    "          \n",
    "            cate_weight = {}\n",
    "            for cate,wei in zip(label,weight):\n",
    "                if cate in cate_weight:\n",
    "                    cate_weight[cate] += wei\n",
    "                else:\n",
    "                    cate_weight[cate] = wei\n",
    "\n",
    "            \n",
    "            max_weight = max(cate_weight.values())\n",
    "            max_class = max(cate_weight,key=cate_weight.get)\n",
    "            # print(max_weight)\n",
    "            # print(max_class)\n",
    "            # c = Circle(xy=(each[0],each[1]), radius=euclidean_distance(min_center,each),alpha=0.5,color='red')\n",
    "            # fig2 = plt.figure()\n",
    "            # axes2 = fig2.add_subplot(1, 1, 1)\n",
    "            # axes2.set_aspect('equal')\n",
    "            # axes2.add_patch(c)\n",
    "            # axes2.scatter(train_data[:,0],train_data[:,1],c=train_label)\n",
    "            # # axes2.scatter(sample_in_circle[:,0],sample_in_circle[:,1])\n",
    "            # axes2.scatter(min_center[0],min_center[1],c='r')\n",
    "            # axes2.scatter(each[0],each[1],c='g')\n",
    "            \n",
    "            final_label.append(max_class)\n",
    "        \n",
    "        return final_label\n"
   ]
  },
  {
   "cell_type": "code",
   "execution_count": 6,
   "id": "63804976-c6c7-4e8f-927a-a8edd3f3546d",
   "metadata": {},
   "outputs": [],
   "source": [
    "def compute_acc(true_label,predict_label):\n",
    "    acc = accuracy_score(true_label,predict_label)\n",
    "    return acc"
   ]
  },
  {
   "cell_type": "code",
   "execution_count": 11,
   "id": "2610cae3-14cd-4239-8afd-86d5f51a8a1e",
   "metadata": {},
   "outputs": [
    {
     "name": "stdout",
     "output_type": "stream",
     "text": [
      "1.0\n"
     ]
    },
    {
     "name": "stderr",
     "output_type": "stream",
     "text": [
      "C:\\Users\\hunte\\AppData\\Local\\Temp\\ipykernel_33760\\643838140.py:52: RuntimeWarning: divide by zero encountered in divide\n",
      "  weight = weight / dis\n"
     ]
    }
   ],
   "source": [
    "iris = load_iris()\n",
    "iris_data = iris.data\n",
    "iris_label = iris.target\n",
    "iris_ = pd.DataFrame(iris_data)\n",
    "iris_['Y'] = iris_label\n",
    "iris_train_set,iris_test_set = train_test_split(iris_,test_size=0.3,random_state=42)\n",
    "iris_test_data = iris_test_set.iloc[:,:-1].values\n",
    "iris_test_label = iris_test_set.iloc[:,-1].values\n",
    "knn = Modifier_KNN(iris_train_set)\n",
    "\n",
    "predict_label = knn.predict(iris_test_data,2)\n",
    "print(compute_acc(iris_test_label,predict_label))"
   ]
  },
  {
   "cell_type": "code",
   "execution_count": null,
   "id": "82bb4fba-db47-4d0c-a1e8-99b9bf0fe7b5",
   "metadata": {},
   "outputs": [],
   "source": []
  },
  {
   "cell_type": "code",
   "execution_count": null,
   "id": "d2787e02-0e55-4e8a-81e2-c179c3e5d346",
   "metadata": {},
   "outputs": [],
   "source": []
  }
 ],
 "metadata": {
  "kernelspec": {
   "display_name": "Python 3 (ipykernel)",
   "language": "python",
   "name": "python3"
  },
  "language_info": {
   "codemirror_mode": {
    "name": "ipython",
    "version": 3
   },
   "file_extension": ".py",
   "mimetype": "text/x-python",
   "name": "python",
   "nbconvert_exporter": "python",
   "pygments_lexer": "ipython3",
   "version": "3.10.7"
  }
 },
 "nbformat": 4,
 "nbformat_minor": 5
}
